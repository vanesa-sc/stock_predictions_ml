{
  "nbformat": 4,
  "nbformat_minor": 0,
  "metadata": {
    "colab": {
      "name": "over_under_sampled_forest.ipynb",
      "provenance": []
    },
    "kernelspec": {
      "name": "python3",
      "display_name": "Python 3"
    },
    "language_info": {
      "name": "python"
    }
  },
  "cells": [
    {
      "cell_type": "code",
      "execution_count": null,
      "metadata": {
        "id": "dz6RsyerNvHR"
      },
      "outputs": [],
      "source": [
        "import pandas as pd\n",
        "import numpy as np"
      ]
    },
    {
      "cell_type": "code",
      "source": [
        "data=pd.read_csv('/content/stocks_quarterly.csv')"
      ],
      "metadata": {
        "id": "JdT0YZo-N5gI"
      },
      "execution_count": null,
      "outputs": []
    },
    {
      "cell_type": "code",
      "source": [
        "data.head()"
      ],
      "metadata": {
        "colab": {
          "base_uri": "https://localhost:8080/",
          "height": 170
        },
        "id": "dgwhbv4xN-yu",
        "outputId": "f935e30e-23c9-42d9-a4c5-1b71307173e5"
      },
      "execution_count": null,
      "outputs": [
        {
          "output_type": "error",
          "ename": "NameError",
          "evalue": "ignored",
          "traceback": [
            "\u001b[0;31m---------------------------------------------------------------------------\u001b[0m",
            "\u001b[0;31mNameError\u001b[0m                                 Traceback (most recent call last)",
            "\u001b[0;32m<ipython-input-2-304fa4ce4ebd>\u001b[0m in \u001b[0;36m<module>\u001b[0;34m()\u001b[0m\n\u001b[0;32m----> 1\u001b[0;31m \u001b[0mdata\u001b[0m\u001b[0;34m.\u001b[0m\u001b[0mhead\u001b[0m\u001b[0;34m(\u001b[0m\u001b[0;34m)\u001b[0m\u001b[0;34m\u001b[0m\u001b[0;34m\u001b[0m\u001b[0m\n\u001b[0m",
            "\u001b[0;31mNameError\u001b[0m: name 'data' is not defined"
          ]
        }
      ]
    },
    {
      "cell_type": "code",
      "source": [
        "data=data.dropna(subset=['grossProfit','operatingExpenses','ebit','netIncome_x','totalAssets'])"
      ],
      "metadata": {
        "id": "kLBmltLMa-7V"
      },
      "execution_count": null,
      "outputs": []
    },
    {
      "cell_type": "code",
      "source": [
        "data=data.drop(columns=['Stock_Performance','Nasdaq_Performance','nasd_ny_price','price','fiscalDateEnding','nasd_price',\t'next_year_date',\t'next_year_price','symbol','reportedDate'])"
      ],
      "metadata": {
        "id": "TXhut94XbEyk"
      },
      "execution_count": null,
      "outputs": []
    },
    {
      "cell_type": "code",
      "source": [
        "cols_to_drop = data.isnull().mean().sort_values(ascending = False).head(45).index"
      ],
      "metadata": {
        "id": "l-C8rifSMurm"
      },
      "execution_count": null,
      "outputs": []
    },
    {
      "cell_type": "code",
      "source": [
        "data.drop(columns = cols_to_drop, inplace = True)"
      ],
      "metadata": {
        "id": "_JO_PhPMMwKG"
      },
      "execution_count": null,
      "outputs": []
    },
    {
      "cell_type": "code",
      "source": [
        "X=data.drop(columns='Label')"
      ],
      "metadata": {
        "id": "Apc47vx3Mzex"
      },
      "execution_count": null,
      "outputs": []
    },
    {
      "cell_type": "code",
      "source": [
        "y=data['Label']\n"
      ],
      "metadata": {
        "id": "D9SdMjDzHYPJ"
      },
      "execution_count": null,
      "outputs": []
    },
    {
      "cell_type": "code",
      "source": [
        "from sklearn.impute import KNNImputer\n",
        "from sklearn.model_selection import cross_validate\n",
        "\n",
        "\n",
        "imputer = KNNImputer(n_neighbors=2)\n",
        "\n",
        "imputed =imputer.fit_transform(X)\n",
        "\n",
        "\n",
        "X = pd.DataFrame(imputed, columns=X.columns)\n"
      ],
      "metadata": {
        "id": "GyPe2RGgHsOf"
      },
      "execution_count": null,
      "outputs": []
    },
    {
      "cell_type": "code",
      "source": [
        "from imblearn.under_sampling import RandomUnderSampler\n",
        "\n",
        "rus = RandomUnderSampler(random_state=42)\n",
        "X_res, y_res = rus.fit_resample(X, y)\n",
        "\n",
        "\n"
      ],
      "metadata": {
        "id": "HPcXbqtEbV9G"
      },
      "execution_count": null,
      "outputs": []
    },
    {
      "cell_type": "code",
      "source": [
        ""
      ],
      "metadata": {
        "id": "MMxn96x7cLh3"
      },
      "execution_count": null,
      "outputs": []
    },
    {
      "cell_type": "code",
      "source": [
        "from sklearn.model_selection import train_test_split\n",
        "\n",
        "X_train, X_test, y_train, y_test = train_test_split(X_res, y_res, test_size=0.33, random_state=42)"
      ],
      "metadata": {
        "id": "w0up4IQELSuc"
      },
      "execution_count": null,
      "outputs": []
    },
    {
      "cell_type": "code",
      "source": [
        ""
      ],
      "metadata": {
        "id": "1echxEoXMFaG"
      },
      "execution_count": null,
      "outputs": []
    },
    {
      "cell_type": "code",
      "source": [
        "from sklearn.ensemble import RandomForestClassifier\n",
        "\n",
        "forest_tunned = RandomForestClassifier(bootstrap= True,\n",
        " max_depth= 110,\n",
        " max_features= 2,\n",
        " min_samples_leaf= 3,\n",
        " min_samples_split= 8,\n",
        " n_estimators= 300)\n",
        "\n",
        "\n",
        "result_forest_tunned= cross_validate(forest_tunned, X_train, y_train, scoring = [\"precision\",\"accuracy\",\"f1\",\"recall\",\"roc_auc\"], cv=5)\n",
        "\n",
        "accuracy_tunned=result_forest_tunned['test_accuracy'].mean()\n",
        "precision_tunned=result_forest_tunned['test_precision'].mean()\n",
        "recall_tunned=result_forest_tunned['test_recall'].mean()\n",
        "f1_tunned=result_forest_tunned['test_f1'].mean()\n",
        "roc_tunned=result_forest_tunned['test_roc_auc'].mean()\n",
        "\n",
        "\n",
        "result_forest_tunned"
      ],
      "metadata": {
        "colab": {
          "base_uri": "https://localhost:8080/"
        },
        "id": "uav-HziWb_5z",
        "outputId": "cda62c98-05ef-4778-9b41-1a1b731f2c37"
      },
      "execution_count": null,
      "outputs": [
        {
          "output_type": "execute_result",
          "data": {
            "text/plain": [
              "{'fit_time': array([3.67174482, 2.46259737, 1.99060297, 2.00852346, 2.00786257]),\n",
              " 'score_time': array([0.25945449, 0.15047264, 0.15481329, 0.1549468 , 0.15152287]),\n",
              " 'test_accuracy': array([0.65997131, 0.64798851, 0.66091954, 0.63793103, 0.63505747]),\n",
              " 'test_f1': array([0.66760168, 0.66757123, 0.66946779, 0.63688761, 0.64623955]),\n",
              " 'test_precision': array([0.65927978, 0.63896104, 0.66022099, 0.64619883, 0.63215259]),\n",
              " 'test_recall': array([0.67613636, 0.69886364, 0.67897727, 0.62784091, 0.66096866]),\n",
              " 'test_roc_auc': array([0.7064888 , 0.70074656, 0.72747919, 0.68317257, 0.68236509])}"
            ]
          },
          "metadata": {},
          "execution_count": 34
        }
      ]
    },
    {
      "cell_type": "code",
      "source": [
        "X_res.shape"
      ],
      "metadata": {
        "colab": {
          "base_uri": "https://localhost:8080/"
        },
        "id": "hemUlLXPNNGG",
        "outputId": "f10e66a9-3954-4e5f-c847-2979454760f7"
      },
      "execution_count": null,
      "outputs": [
        {
          "output_type": "execute_result",
          "data": {
            "text/plain": [
              "(5196, 46)"
            ]
          },
          "metadata": {},
          "execution_count": 35
        }
      ]
    },
    {
      "cell_type": "code",
      "source": [
        "import matplotlib.pyplot as plt\n",
        "from sklearn.model_selection import learning_curve\n",
        "import numpy as np\n",
        "\n",
        "train_sizes, train_scores, test_scores = learning_curve(estimator = RandomForestClassifier(bootstrap= True,\n",
        "                                                                                           max_depth= 110,\n",
        "                                                                                           max_features= 3,\n",
        "                                                                                           min_samples_leaf= 3,\n",
        "                                                                                           min_samples_split= 8,\n",
        "                                                                                           n_estimators= 200),\n",
        "                                                                                           X = X_train_os, \n",
        "                                                                                           y = y_train_os, \n",
        "                                                                                           train_sizes = [25,50,100,150,200,250,300], cv = 5)\n",
        "\n",
        "train_scores_mean = np.mean(train_scores, axis=1)\n",
        "test_scores_mean = np.mean(test_scores, axis=1)"
      ],
      "metadata": {
        "id": "lxG0v0VKNWG8"
      },
      "execution_count": null,
      "outputs": []
    },
    {
      "cell_type": "code",
      "source": [
        "# Plot the learning curves!\n",
        "plt.plot(train_sizes, train_scores_mean, label = 'Training score')\n",
        "plt.plot(train_sizes, test_scores_mean, label = 'Test score')\n",
        "plt.ylabel('r2 score', fontsize = 14)\n",
        "plt.xlabel('Training set size', fontsize = 14)\n",
        "plt.title('Learning curves', fontsize = 18, y = 1.03)\n",
        "plt.legend();"
      ],
      "metadata": {
        "colab": {
          "base_uri": "https://localhost:8080/",
          "height": 310
        },
        "id": "_bFshdIONdjP",
        "outputId": "6909f40f-b7c2-4bad-ae93-dfade2a32cd8"
      },
      "execution_count": null,
      "outputs": [
        {
          "output_type": "display_data",
          "data": {
            "image/png": "[encoded data removed]",
            "text/plain": [
              "<Figure size 432x288 with 1 Axes>"
            ]
          },
          "metadata": {
            "needs_background": "light"
          }
        }
      ]
    },
    {
      "cell_type": "code",
      "source": [
        "from imblearn.over_sampling import RandomOverSampler\n",
        "ros = RandomOverSampler(random_state=0)\n",
        "X_oversampled, y_oversampled = ros.fit_resample(X, y)"
      ],
      "metadata": {
        "id": "2ffLeNVdNn4y"
      },
      "execution_count": null,
      "outputs": []
    },
    {
      "cell_type": "code",
      "source": [
        "from sklearn.model_selection import train_test_split\n",
        "\n",
        "X_train_os, X_test_os, y_train_os, y_test_os = train_test_split(X_oversampled, y_oversampled, test_size=0.33, random_state=42)"
      ],
      "metadata": {
        "id": "bzLFtQtRRO4k"
      },
      "execution_count": null,
      "outputs": []
    },
    {
      "cell_type": "code",
      "source": [
        "forest_tunned_os = RandomForestClassifier(bootstrap= True,\n",
        " max_depth= 110,\n",
        " max_features= 2,\n",
        " min_samples_leaf= 3,\n",
        " min_samples_split= 8,\n",
        " n_estimators= 300)\n",
        "\n",
        "\n",
        "result_forest_tunned_os= cross_validate(forest_tunned_os, X_train_os, y_train_os, scoring = [\"precision\",\"accuracy\",\"f1\",\"recall\",\"roc_auc\"], cv=5)\n",
        "\n",
        "accuracy_tunned_os=result_forest_tunned_os['test_accuracy'].mean()\n",
        "precision_tunned_os=result_forest_tunned_os['test_precision'].mean()\n",
        "recall_tunned_os=result_forest_tunned_os['test_recall'].mean()\n",
        "f1_tunned_os=result_forest_tunned_os['test_f1'].mean()\n",
        "roc_tunned_os=result_forest_tunned_os['test_roc_auc'].mean()\n",
        "\n",
        "\n",
        "result_forest_tunned"
      ],
      "metadata": {
        "colab": {
          "base_uri": "https://localhost:8080/"
        },
        "id": "wyUr0ex7RcRp",
        "outputId": "695a37c4-3e3d-4e9a-8ca2-feb4247938a5"
      },
      "execution_count": null,
      "outputs": [
        {
          "output_type": "execute_result",
          "data": {
            "text/plain": [
              "{'fit_time': array([3.67174482, 2.46259737, 1.99060297, 2.00852346, 2.00786257]),\n",
              " 'score_time': array([0.25945449, 0.15047264, 0.15481329, 0.1549468 , 0.15152287]),\n",
              " 'test_accuracy': array([0.65997131, 0.64798851, 0.66091954, 0.63793103, 0.63505747]),\n",
              " 'test_f1': array([0.66760168, 0.66757123, 0.66946779, 0.63688761, 0.64623955]),\n",
              " 'test_precision': array([0.65927978, 0.63896104, 0.66022099, 0.64619883, 0.63215259]),\n",
              " 'test_recall': array([0.67613636, 0.69886364, 0.67897727, 0.62784091, 0.66096866]),\n",
              " 'test_roc_auc': array([0.7064888 , 0.70074656, 0.72747919, 0.68317257, 0.68236509])}"
            ]
          },
          "metadata": {},
          "execution_count": 40
        }
      ]
    },
    {
      "cell_type": "code",
      "source": [
        "data.columns"
      ],
      "metadata": {
        "colab": {
          "base_uri": "https://localhost:8080/"
        },
        "id": "gmEnjW74R0GZ",
        "outputId": "57fb2746-1f80-4e49-9b1e-2f9b967fb260"
      },
      "execution_count": null,
      "outputs": [
        {
          "output_type": "execute_result",
          "data": {
            "text/plain": [
              "Index(['grossProfit', 'totalRevenue', 'costOfRevenue',\n",
              "       'costofGoodsAndServicesSold', 'operatingIncome',\n",
              "       'sellingGeneralAndAdministrative', 'operatingExpenses',\n",
              "       'interestExpense', 'depreciationAndAmortization', 'incomeBeforeTax',\n",
              "       'incomeTaxExpense', 'netIncomeFromContinuingOperations',\n",
              "       'comprehensiveIncomeNetOfTax', 'ebit', 'ebitda', 'netIncome_x',\n",
              "       'totalAssets', 'totalCurrentAssets',\n",
              "       'cashAndCashEquivalentsAtCarryingValue', 'cashAndShortTermInvestments',\n",
              "       'totalNonCurrentAssets', 'propertyPlantEquipment', 'otherCurrentAssets',\n",
              "       'otherNonCurrrentAssets', 'totalLiabilities', 'totalCurrentLiabilities',\n",
              "       'totalNonCurrentLiabilities', 'shortLongTermDebtTotal',\n",
              "       'otherCurrentLiabilities', 'totalShareholderEquity', 'retainedEarnings',\n",
              "       'commonStock', 'commonStockSharesOutstanding', 'operatingCashflow',\n",
              "       'depreciationDepletionAndAmortization', 'capitalExpenditures',\n",
              "       'profitLoss', 'cashflowFromInvestment', 'cashflowFromFinancing',\n",
              "       'proceedsFromRepurchaseOfEquity', 'changeInCashAndCashEquivalents',\n",
              "       'netIncome_y', 'reportedEPS', 'estimatedEPS', 'surprise',\n",
              "       'surprisePercentage', 'Label'],\n",
              "      dtype='object')"
            ]
          },
          "metadata": {},
          "execution_count": 43
        }
      ]
    },
    {
      "cell_type": "markdown",
      "source": [
        "TETSING GRADIENT BOOSTING CLASSIFIER\n"
      ],
      "metadata": {
        "id": "JvmZZgyIgGV4"
      }
    },
    {
      "cell_type": "code",
      "source": [
        "from sklearn.preprocessing import MinMaxScaler\n",
        "\n",
        "scaler = MinMaxScaler()\n",
        "X_train_scaled = scaler.fit_transform(X_train)\n",
        "X_test_scaled = scaler.transform(X_test)"
      ],
      "metadata": {
        "id": "HpiiJn-YgYGu"
      },
      "execution_count": null,
      "outputs": []
    },
    {
      "cell_type": "code",
      "source": [
        " from sklearn.ensemble import GradientBoostingClassifier"
      ],
      "metadata": {
        "id": "zdiTUQOjY_5x"
      },
      "execution_count": null,
      "outputs": []
    },
    {
      "cell_type": "code",
      "source": [
        "clf = GradientBoostingClassifier(n_estimators=100, learning_rate=0.1, max_depth=1,subsample=0.1, random_state=0).fit(X_train_scaled, y_train)\n",
        "\n",
        "\n",
        "\n",
        "\n",
        "\n",
        "clf_results= cross_validate(clf, X_train_scaled, y_train, scoring = [\"precision\",\"accuracy\",\"f1\",\"recall\",\"roc_auc\"], cv=5)\n",
        "\n",
        "\n",
        "\n",
        "clf_results"
      ],
      "metadata": {
        "colab": {
          "base_uri": "https://localhost:8080/"
        },
        "id": "rPtDovCEHoqQ",
        "outputId": "ad871bd5-e859-4dda-c43e-e1980175c259"
      },
      "execution_count": null,
      "outputs": [
        {
          "output_type": "execute_result",
          "data": {
            "text/plain": [
              "{'fit_time': array([0.36656332, 0.36289382, 0.37263966, 0.34898543, 0.38125992]),\n",
              " 'score_time': array([0.01335979, 0.01351357, 0.01325488, 0.01284599, 0.01378584]),\n",
              " 'test_accuracy': array([0.56671449, 0.56321839, 0.5704023 , 0.5545977 , 0.57902299]),\n",
              " 'test_f1': array([0.59517426, 0.57422969, 0.59430122, 0.57063712, 0.57720058]),\n",
              " 'test_precision': array([0.56345178, 0.56629834, 0.56883117, 0.55675676, 0.58479532]),\n",
              " 'test_recall': array([0.63068182, 0.58238636, 0.62215909, 0.58522727, 0.56980057]),\n",
              " 'test_roc_auc': array([0.59920537, 0.57540797, 0.59484837, 0.58561542, 0.59269169])}"
            ]
          },
          "metadata": {},
          "execution_count": 41
        }
      ]
    },
    {
      "cell_type": "code",
      "source": [
        "import matplotlib.pyplot as plt\n",
        "from sklearn.model_selection import learning_curve\n",
        "import numpy as np\n",
        "\n",
        "train_sizes, train_scores, test_scores = learning_curve(estimator = GradientBoostingClassifier(n_estimators=100, \n",
        "                                                                                              learning_rate=0.1 , max_depth=1, random_state=0).fit(X_train, y_train),\n",
        "                                                                                              X = X_train_scaled, \n",
        "                                                                                              y = y_train, \n",
        "                                                                                              train_sizes = [100,200,300,450,650,1000,2784], cv = 5)\n",
        "\n",
        "train_scores_mean = np.mean(train_scores, axis=1)\n",
        "test_scores_mean = np.mean(test_scores, axis=1)"
      ],
      "metadata": {
        "id": "5OwTxzkVIJZW"
      },
      "execution_count": null,
      "outputs": []
    },
    {
      "cell_type": "code",
      "source": [
        " \n",
        "plt.plot(train_sizes, train_scores_mean, label = 'Training score')\n",
        "plt.plot(train_sizes, test_scores_mean, label = 'Test score')\n",
        "plt.xlabel('Training set size', fontsize = 14)\n",
        "plt.title('Learning curves', fontsize = 18, y = 1.03)\n",
        "plt.legend();"
      ],
      "metadata": {
        "colab": {
          "base_uri": "https://localhost:8080/",
          "height": 310
        },
        "id": "vF3hnrdkMfTq",
        "outputId": "96a5f5bb-0b83-48d5-afd8-ee485ae26346"
      },
      "execution_count": null,
      "outputs": [
        {
          "output_type": "display_data",
          "data": {
            "image/png": "[encoded data removed]",
            "text/plain": [
              "<Figure size 432x288 with 1 Axes>"
            ]
          },
          "metadata": {
            "needs_background": "light"
          }
        }
      ]
    },
    {
      "cell_type": "code",
      "source": [
        ""
      ],
      "metadata": {
        "id": "2DIeNRy0NKz1"
      },
      "execution_count": null,
      "outputs": []
    }
  ]
}