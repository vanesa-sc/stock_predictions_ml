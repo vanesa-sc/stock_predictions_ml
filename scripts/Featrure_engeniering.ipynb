{
 "cells": [
  {
   "cell_type": "code",
   "execution_count": 140,
   "id": "aea2c1aa-dcbd-4f16-ab06-be8bfdff3542",
   "metadata": {},
   "outputs": [],
   "source": [
    "import pandas as pd\n",
    "import numpy as np"
   ]
  },
  {
   "cell_type": "code",
   "execution_count": 141,
   "id": "c8264ed2-5381-4b11-9001-16bf1adb00f2",
   "metadata": {},
   "outputs": [],
   "source": [
    "df = pd.read_csv('../data/stocks_quarterly.csv')"
   ]
  },
  {
   "cell_type": "code",
   "execution_count": 142,
   "id": "b869e0bd-74f6-4f04-96f0-6508dbefb940",
   "metadata": {},
   "outputs": [],
   "source": [
    "df2 = pd.read_csv('../data/new_data_test.csv')"
   ]
  },
  {
   "cell_type": "code",
   "execution_count": 143,
   "id": "b1d79d19-c479-4f11-8317-2880f3196e37",
   "metadata": {},
   "outputs": [],
   "source": [
    "df = pd.concat([df,df2])"
   ]
  },
  {
   "cell_type": "code",
   "execution_count": 145,
   "id": "026e279a-f5bc-4fb8-ac71-71f492a5f9e7",
   "metadata": {},
   "outputs": [],
   "source": [
    "cols_to_drop = df.isnull().mean().sort_values(ascending = False).head(45).index"
   ]
  },
  {
   "cell_type": "code",
   "execution_count": 146,
   "id": "49281174-878f-4cb7-b0e7-11cb4be93e62",
   "metadata": {},
   "outputs": [],
   "source": [
    "cols_to_drop = list(cols_to_drop) + ['fiscalDateEnding','reportedDate','price','nasd_price',\\\n",
    "                                     'next_year_date','next_year_price','nasd_ny_price','symbol',\\\n",
    "                                     'Nasdaq_Performance', 'Stock_Performance']"
   ]
  },
  {
   "cell_type": "code",
   "execution_count": 147,
   "id": "c869e188-8ab8-42cc-b430-0e0afbb641a4",
   "metadata": {},
   "outputs": [],
   "source": [
    "df.drop(columns = cols_to_drop, inplace = True)"
   ]
  },
  {
   "cell_type": "code",
   "execution_count": 62,
   "id": "6ab96c42-94d0-4b3f-87fa-c2b83011ba6f",
   "metadata": {},
   "outputs": [],
   "source": [
    "columns = list(df.columns[0:-1])"
   ]
  },
  {
   "cell_type": "code",
   "execution_count": 63,
   "id": "67926932-4765-4b80-9d25-677645ce293a",
   "metadata": {},
   "outputs": [
    {
     "name": "stderr",
     "output_type": "stream",
     "text": [
      "/var/folders/6h/whx9z2p92kv86dyb6qfyqbzm0000gn/T/ipykernel_55206/3864096548.py:5: PerformanceWarning: DataFrame is highly fragmented.  This is usually the result of calling `frame.insert` many times, which has poor performance.  Consider joining all columns at once using pd.concat(axis=1) instead.  To get a de-fragmented frame, use `newframe = frame.copy()`\n",
      "  df[column_1[0:4]+'_'+column_2[0:4]]=round((df[column_1]/df[column_2])-1,4)\n"
     ]
    }
   ],
   "source": [
    "for column_1 in columns:\n",
    "    columns.remove(column_1)\n",
    "    for column_2 in columns:\n",
    "        if column_1 != column_2:\n",
    "            df[column_1[0:4]+'_'+column_2[0:4]]=round((df[column_1]/df[column_2])-1,4)\n"
   ]
  },
  {
   "cell_type": "code",
   "execution_count": 64,
   "id": "eeb3dc41-8dbc-424b-af80-53370ef532f3",
   "metadata": {},
   "outputs": [
    {
     "name": "stderr",
     "output_type": "stream",
     "text": [
      "/var/folders/6h/whx9z2p92kv86dyb6qfyqbzm0000gn/T/ipykernel_55206/2998966907.py:2: PerformanceWarning: DataFrame is highly fragmented.  This is usually the result of calling `frame.insert` many times, which has poor performance.  Consider joining all columns at once using pd.concat(axis=1) instead.  To get a de-fragmented frame, use `newframe = frame.copy()`\n",
      "  df['canarito_'+ str(i)]= np.random.uniform(size=len(df))\n"
     ]
    }
   ],
   "source": [
    "for i in range(100):\n",
    "    df['canarito_'+ str(i)]= np.random.uniform(size=len(df))\n"
   ]
  },
  {
   "cell_type": "code",
   "execution_count": 65,
   "id": "abb9c6bb-7a8a-4d6e-ae6a-c2e171564a60",
   "metadata": {},
   "outputs": [],
   "source": [
    "df = df.replace(np.inf,0).replace(-(np.inf),0).astype('float32')"
   ]
  },
  {
   "cell_type": "code",
   "execution_count": 66,
   "id": "0ff1583a-bf3b-4f2b-a019-fddb8beb62e0",
   "metadata": {},
   "outputs": [],
   "source": [
    "df.to_csv('featured_df.csv', index = False)"
   ]
  },
  {
   "cell_type": "code",
   "execution_count": 86,
   "id": "818e162b-9009-4928-aa13-ef79202d1179",
   "metadata": {},
   "outputs": [],
   "source": [
    "from sklearn.preprocessing import PolynomialFeatures"
   ]
  },
  {
   "cell_type": "code",
   "execution_count": null,
   "id": "52cf67a0-fdf7-44e7-a078-1dd749bfcd88",
   "metadata": {},
   "outputs": [],
   "source": []
  },
  {
   "cell_type": "code",
   "execution_count": null,
   "id": "615333d8-7d14-4bd5-8fd7-b6783413b911",
   "metadata": {},
   "outputs": [],
   "source": [
    "from bayes_opt.util import load_logs"
   ]
  },
  {
   "cell_type": "code",
   "execution_count": null,
   "id": "efce1dba-7d11-4b55-a38d-f385f482cc9d",
   "metadata": {},
   "outputs": [],
   "source": [
    "new_optimizer = BayesianOptimization(\n",
    "    f=black_box_function,\n",
    "    pbounds={\"x\": (-2, 2), \"y\": (-2, 2)},\n",
    "    verbose=2,\n",
    "    random_state=7,\n",
    ")\n",
    "print(len(new_optimizer.space))"
   ]
  },
  {
   "cell_type": "code",
   "execution_count": null,
   "id": "2d0a0450-c69a-4653-8771-dbb5f809239b",
   "metadata": {},
   "outputs": [],
   "source": [
    "load_logs(new_optimizer, logs=[\"./logs.json\"]);"
   ]
  },
  {
   "cell_type": "code",
   "execution_count": null,
   "id": "c6a4b6c2-15c9-4384-be28-fe644313c246",
   "metadata": {},
   "outputs": [],
   "source": [
    "print(\"New optimizer is now aware of {} points.\".format(len(new_optimizer.space)))\n"
   ]
  },
  {
   "cell_type": "code",
   "execution_count": 75,
   "id": "2623d96a-14ba-4e6f-a576-d6a05b869812",
   "metadata": {},
   "outputs": [
    {
     "name": "stdout",
     "output_type": "stream",
     "text": [
      "[{'target': 0.6715020576131687, 'params': {'max_depth': 40.72933172464178, 'max_features': 0.6536768062254503, 'min_samples_leaf': 5.501821912056916, 'min_samples_split': 19.84860600913046, 'n_estimators': 314.1905651663334}, 'datetime': {'datetime': '2022-03-10 15:45:24', 'elapsed': 0.0, 'delta': 0.0}}, {'target': 0.6726337448559669, 'params': {'max_depth': 104.5124992760864, 'max_features': 0.2615328472698803, 'min_samples_leaf': 5.015975279687064, 'min_samples_split': 2.8236629605412755, 'n_estimators': 112.44454040900587}, 'datetime': {'datetime': '2022-03-10 15:45:55', 'elapsed': 30.464477, 'delta': 30.464477}}, {'target': 0.6667695473251029, 'params': {'max_depth': 105.11980872275885, 'max_features': 0.6646036833926185, 'min_samples_leaf': 3.5126632745488413, 'min_samples_split': 3.060434992709828, 'n_estimators': 113.25789661402767}, 'datetime': {'datetime': '2022-03-10 15:47:19', 'elapsed': 114.826536, 'delta': 84.362059}}]\n"
     ]
    }
   ],
   "source": [
    "import json\n",
    "from pprint import pprint\n",
    "\n",
    "with open('logs.json') as f:\n",
    "    data = json.loads(\"[\" + \n",
    "        f.read().replace(\"}\\n{\", \"},\\n{\") + \n",
    "    \"]\")\n",
    "\n",
    "    print(data)"
   ]
  },
  {
   "cell_type": "code",
   "execution_count": 80,
   "id": "6e904b42-7470-443d-9ed9-c28965237a63",
   "metadata": {},
   "outputs": [
    {
     "data": {
      "text/plain": [
       "{'target': 0.6667695473251029,\n",
       " 'params': {'max_depth': 105.11980872275885,\n",
       "  'max_features': 0.6646036833926185,\n",
       "  'min_samples_leaf': 3.5126632745488413,\n",
       "  'min_samples_split': 3.060434992709828,\n",
       "  'n_estimators': 113.25789661402767},\n",
       " 'datetime': {'datetime': '2022-03-10 15:47:19',\n",
       "  'elapsed': 114.826536,\n",
       "  'delta': 84.362059}}"
      ]
     },
     "execution_count": 80,
     "metadata": {},
     "output_type": "execute_result"
    }
   ],
   "source": [
    "data[2]"
   ]
  },
  {
   "cell_type": "code",
   "execution_count": 149,
   "id": "4e83c960-2ada-412d-9aa3-31b762f37e3a",
   "metadata": {},
   "outputs": [],
   "source": [
    "df = df.fillna(0)\n"
   ]
  },
  {
   "cell_type": "code",
   "execution_count": 121,
   "id": "54dc2897-745d-4b0c-9ef6-5d1bc8248d19",
   "metadata": {},
   "outputs": [
    {
     "data": {
      "text/plain": [
       "(9929, 47)"
      ]
     },
     "execution_count": 121,
     "metadata": {},
     "output_type": "execute_result"
    }
   ],
   "source": [
    "df.shape"
   ]
  },
  {
   "cell_type": "code",
   "execution_count": 119,
   "id": "5ebfd1fd-ab9f-434e-ad81-d237ec7e07cf",
   "metadata": {},
   "outputs": [
    {
     "data": {
      "text/plain": [
       "(9929, 47)"
      ]
     },
     "execution_count": 119,
     "metadata": {},
     "output_type": "execute_result"
    }
   ],
   "source": [
    "df.shape"
   ]
  },
  {
   "cell_type": "code",
   "execution_count": 124,
   "id": "79fc8a2d-ed8f-40cc-a211-f169fd2336bc",
   "metadata": {},
   "outputs": [
    {
     "data": {
      "text/plain": [
       "(9929, 1176)"
      ]
     },
     "execution_count": 124,
     "metadata": {},
     "output_type": "execute_result"
    }
   ],
   "source": [
    "values.shape"
   ]
  },
  {
   "cell_type": "code",
   "execution_count": 150,
   "id": "6e035598-85f4-4d48-9f5d-a1d650cf3eb3",
   "metadata": {},
   "outputs": [],
   "source": [
    "from sklearn.decomposition import PCA\n",
    "\n",
    "pca = PCA(n_components=10)\n",
    "data_projected = pca.fit_transform(df)"
   ]
  },
  {
   "cell_type": "code",
   "execution_count": 132,
   "id": "9dbbf20d-0ee3-4837-8ce3-82707d876f6e",
   "metadata": {},
   "outputs": [
    {
     "data": {
      "text/plain": [
       "(9929, 10)"
      ]
     },
     "execution_count": 132,
     "metadata": {},
     "output_type": "execute_result"
    }
   ],
   "source": [
    "data_projected.shape"
   ]
  },
  {
   "cell_type": "code",
   "execution_count": 151,
   "id": "6b9051e4-5aa7-44a0-ae83-d29e977486db",
   "metadata": {},
   "outputs": [
    {
     "data": {
      "image/png": "[encoded data removed]",
      "text/plain": [
       "<Figure size 432x288 with 1 Axes>"
      ]
     },
     "metadata": {
      "needs_background": "light"
     },
     "output_type": "display_data"
    }
   ],
   "source": [
    "import numpy as np\n",
    "import matplotlib.pyplot as plt\n",
    "plt.plot(pca.explained_variance_ratio_)\n",
    "plt.ylim(ymin=0)\n",
    "plt.title('cumulated share of explained variance')\n",
    "plt.xlabel('# of principal component used');"
   ]
  },
  {
   "cell_type": "code",
   "execution_count": 135,
   "id": "b9a87dcb-d020-4b23-9866-1cdf9fee7374",
   "metadata": {},
   "outputs": [
    {
     "ename": "TypeError",
     "evalue": "'PCA' object is not subscriptable",
     "output_type": "error",
     "traceback": [
      "\u001b[0;31m---------------------------------------------------------------------------\u001b[0m",
      "\u001b[0;31mTypeError\u001b[0m                                 Traceback (most recent call last)",
      "\u001b[0;32m/var/folders/6h/whx9z2p92kv86dyb6qfyqbzm0000gn/T/ipykernel_55206/1052121799.py\u001b[0m in \u001b[0;36m<module>\u001b[0;34m\u001b[0m\n\u001b[0;32m----> 1\u001b[0;31m \u001b[0mpca\u001b[0m\u001b[0;34m[\u001b[0m\u001b[0;36m0\u001b[0m\u001b[0;34m]\u001b[0m\u001b[0;34m\u001b[0m\u001b[0;34m\u001b[0m\u001b[0m\n\u001b[0m",
      "\u001b[0;31mTypeError\u001b[0m: 'PCA' object is not subscriptable"
     ]
    }
   ],
   "source": [
    "pca[0]"
   ]
  },
  {
   "cell_type": "code",
   "execution_count": 152,
   "id": "d0b7602b-0f0e-4d82-a207-ae0af2a9411c",
   "metadata": {},
   "outputs": [
    {
     "data": {
      "text/html": [
       "<div>\n",
       "<style scoped>\n",
       "    .dataframe tbody tr th:only-of-type {\n",
       "        vertical-align: middle;\n",
       "    }\n",
       "\n",
       "    .dataframe tbody tr th {\n",
       "        vertical-align: top;\n",
       "    }\n",
       "\n",
       "    .dataframe thead th {\n",
       "        text-align: right;\n",
       "    }\n",
       "</style>\n",
       "<table border=\"1\" class=\"dataframe\">\n",
       "  <thead>\n",
       "    <tr style=\"text-align: right;\">\n",
       "      <th></th>\n",
       "      <th>0</th>\n",
       "      <th>1</th>\n",
       "      <th>2</th>\n",
       "      <th>3</th>\n",
       "      <th>4</th>\n",
       "      <th>5</th>\n",
       "      <th>6</th>\n",
       "      <th>7</th>\n",
       "      <th>8</th>\n",
       "      <th>9</th>\n",
       "    </tr>\n",
       "  </thead>\n",
       "  <tbody>\n",
       "    <tr>\n",
       "      <th>0</th>\n",
       "      <td>-7.286114e+12</td>\n",
       "      <td>-4.079394e+12</td>\n",
       "      <td>-1.406434e+12</td>\n",
       "      <td>-8.903392e+10</td>\n",
       "      <td>1.172102e+11</td>\n",
       "      <td>1.339288e+10</td>\n",
       "      <td>4.037616e+10</td>\n",
       "      <td>2.618071e+09</td>\n",
       "      <td>2.555557e+10</td>\n",
       "      <td>7.625758e+09</td>\n",
       "    </tr>\n",
       "    <tr>\n",
       "      <th>1</th>\n",
       "      <td>-7.285708e+12</td>\n",
       "      <td>-4.078398e+12</td>\n",
       "      <td>-1.402029e+12</td>\n",
       "      <td>-5.997122e+10</td>\n",
       "      <td>9.644481e+10</td>\n",
       "      <td>1.798111e+10</td>\n",
       "      <td>2.576581e+10</td>\n",
       "      <td>-1.506156e+09</td>\n",
       "      <td>2.092237e+10</td>\n",
       "      <td>1.158844e+10</td>\n",
       "    </tr>\n",
       "    <tr>\n",
       "      <th>2</th>\n",
       "      <td>-7.286743e+12</td>\n",
       "      <td>-4.077190e+12</td>\n",
       "      <td>-1.401275e+12</td>\n",
       "      <td>-6.064926e+10</td>\n",
       "      <td>9.548847e+10</td>\n",
       "      <td>1.838613e+10</td>\n",
       "      <td>2.370169e+10</td>\n",
       "      <td>-3.442498e+09</td>\n",
       "      <td>1.958732e+10</td>\n",
       "      <td>1.306799e+10</td>\n",
       "    </tr>\n",
       "    <tr>\n",
       "      <th>3</th>\n",
       "      <td>-7.283646e+12</td>\n",
       "      <td>-4.081566e+12</td>\n",
       "      <td>-1.410990e+12</td>\n",
       "      <td>-5.883616e+10</td>\n",
       "      <td>9.895419e+10</td>\n",
       "      <td>1.448598e+10</td>\n",
       "      <td>2.117744e+10</td>\n",
       "      <td>-4.270075e+09</td>\n",
       "      <td>1.575800e+10</td>\n",
       "      <td>1.627414e+10</td>\n",
       "    </tr>\n",
       "    <tr>\n",
       "      <th>4</th>\n",
       "      <td>-7.288212e+12</td>\n",
       "      <td>-4.081543e+12</td>\n",
       "      <td>-1.405019e+12</td>\n",
       "      <td>-5.916819e+10</td>\n",
       "      <td>9.707359e+10</td>\n",
       "      <td>1.353784e+10</td>\n",
       "      <td>2.390299e+10</td>\n",
       "      <td>-4.842051e+09</td>\n",
       "      <td>1.439757e+10</td>\n",
       "      <td>1.498659e+10</td>\n",
       "    </tr>\n",
       "    <tr>\n",
       "      <th>...</th>\n",
       "      <td>...</td>\n",
       "      <td>...</td>\n",
       "      <td>...</td>\n",
       "      <td>...</td>\n",
       "      <td>...</td>\n",
       "      <td>...</td>\n",
       "      <td>...</td>\n",
       "      <td>...</td>\n",
       "      <td>...</td>\n",
       "      <td>...</td>\n",
       "    </tr>\n",
       "    <tr>\n",
       "      <th>10851</th>\n",
       "      <td>-7.290159e+12</td>\n",
       "      <td>-4.084450e+12</td>\n",
       "      <td>-1.510570e+12</td>\n",
       "      <td>-1.094977e+11</td>\n",
       "      <td>1.259945e+11</td>\n",
       "      <td>1.937537e+10</td>\n",
       "      <td>2.464168e+10</td>\n",
       "      <td>-1.380977e+10</td>\n",
       "      <td>-4.455479e+08</td>\n",
       "      <td>1.623577e+10</td>\n",
       "    </tr>\n",
       "    <tr>\n",
       "      <th>10852</th>\n",
       "      <td>-7.290158e+12</td>\n",
       "      <td>-4.084451e+12</td>\n",
       "      <td>-1.510572e+12</td>\n",
       "      <td>-1.094999e+11</td>\n",
       "      <td>1.259978e+11</td>\n",
       "      <td>1.937711e+10</td>\n",
       "      <td>2.464186e+10</td>\n",
       "      <td>-1.381218e+10</td>\n",
       "      <td>-4.453757e+08</td>\n",
       "      <td>1.623517e+10</td>\n",
       "    </tr>\n",
       "    <tr>\n",
       "      <th>10853</th>\n",
       "      <td>-7.290158e+12</td>\n",
       "      <td>-4.084451e+12</td>\n",
       "      <td>-1.510572e+12</td>\n",
       "      <td>-1.095000e+11</td>\n",
       "      <td>1.259982e+11</td>\n",
       "      <td>1.937702e+10</td>\n",
       "      <td>2.464184e+10</td>\n",
       "      <td>-1.381226e+10</td>\n",
       "      <td>-4.452713e+08</td>\n",
       "      <td>1.623542e+10</td>\n",
       "    </tr>\n",
       "    <tr>\n",
       "      <th>10854</th>\n",
       "      <td>-7.290158e+12</td>\n",
       "      <td>-4.084451e+12</td>\n",
       "      <td>-1.510572e+12</td>\n",
       "      <td>-1.095011e+11</td>\n",
       "      <td>1.259972e+11</td>\n",
       "      <td>1.937622e+10</td>\n",
       "      <td>2.464142e+10</td>\n",
       "      <td>-1.380948e+10</td>\n",
       "      <td>-4.457600e+08</td>\n",
       "      <td>1.623572e+10</td>\n",
       "    </tr>\n",
       "    <tr>\n",
       "      <th>10855</th>\n",
       "      <td>-7.290157e+12</td>\n",
       "      <td>-4.084450e+12</td>\n",
       "      <td>-1.510572e+12</td>\n",
       "      <td>-1.095016e+11</td>\n",
       "      <td>1.259983e+11</td>\n",
       "      <td>1.937814e+10</td>\n",
       "      <td>2.464213e+10</td>\n",
       "      <td>-1.381309e+10</td>\n",
       "      <td>-4.452226e+08</td>\n",
       "      <td>1.623544e+10</td>\n",
       "    </tr>\n",
       "  </tbody>\n",
       "</table>\n",
       "<p>10856 rows × 10 columns</p>\n",
       "</div>"
      ],
      "text/plain": [
       "                  0             1             2             3             4  \\\n",
       "0     -7.286114e+12 -4.079394e+12 -1.406434e+12 -8.903392e+10  1.172102e+11   \n",
       "1     -7.285708e+12 -4.078398e+12 -1.402029e+12 -5.997122e+10  9.644481e+10   \n",
       "2     -7.286743e+12 -4.077190e+12 -1.401275e+12 -6.064926e+10  9.548847e+10   \n",
       "3     -7.283646e+12 -4.081566e+12 -1.410990e+12 -5.883616e+10  9.895419e+10   \n",
       "4     -7.288212e+12 -4.081543e+12 -1.405019e+12 -5.916819e+10  9.707359e+10   \n",
       "...             ...           ...           ...           ...           ...   \n",
       "10851 -7.290159e+12 -4.084450e+12 -1.510570e+12 -1.094977e+11  1.259945e+11   \n",
       "10852 -7.290158e+12 -4.084451e+12 -1.510572e+12 -1.094999e+11  1.259978e+11   \n",
       "10853 -7.290158e+12 -4.084451e+12 -1.510572e+12 -1.095000e+11  1.259982e+11   \n",
       "10854 -7.290158e+12 -4.084451e+12 -1.510572e+12 -1.095011e+11  1.259972e+11   \n",
       "10855 -7.290157e+12 -4.084450e+12 -1.510572e+12 -1.095016e+11  1.259983e+11   \n",
       "\n",
       "                  5             6             7             8             9  \n",
       "0      1.339288e+10  4.037616e+10  2.618071e+09  2.555557e+10  7.625758e+09  \n",
       "1      1.798111e+10  2.576581e+10 -1.506156e+09  2.092237e+10  1.158844e+10  \n",
       "2      1.838613e+10  2.370169e+10 -3.442498e+09  1.958732e+10  1.306799e+10  \n",
       "3      1.448598e+10  2.117744e+10 -4.270075e+09  1.575800e+10  1.627414e+10  \n",
       "4      1.353784e+10  2.390299e+10 -4.842051e+09  1.439757e+10  1.498659e+10  \n",
       "...             ...           ...           ...           ...           ...  \n",
       "10851  1.937537e+10  2.464168e+10 -1.380977e+10 -4.455479e+08  1.623577e+10  \n",
       "10852  1.937711e+10  2.464186e+10 -1.381218e+10 -4.453757e+08  1.623517e+10  \n",
       "10853  1.937702e+10  2.464184e+10 -1.381226e+10 -4.452713e+08  1.623542e+10  \n",
       "10854  1.937622e+10  2.464142e+10 -1.380948e+10 -4.457600e+08  1.623572e+10  \n",
       "10855  1.937814e+10  2.464213e+10 -1.381309e+10 -4.452226e+08  1.623544e+10  \n",
       "\n",
       "[10856 rows x 10 columns]"
      ]
     },
     "execution_count": 152,
     "metadata": {},
     "output_type": "execute_result"
    }
   ],
   "source": [
    "pd.DataFrame(data_projected)"
   ]
  },
  {
   "cell_type": "code",
   "execution_count": 155,
   "id": "f84ca283-4183-4368-8ed5-cb24faeb9f2f",
   "metadata": {},
   "outputs": [
    {
     "data": {
      "text/plain": [
       "[<matplotlib.lines.Line2D at 0x1350bf340>]"
      ]
     },
     "execution_count": 155,
     "metadata": {},
     "output_type": "execute_result"
    },
    {
     "data": {
      "image/png": "[encoded data removed]",
      "text/plain": [
       "<Figure size 432x288 with 1 Axes>"
      ]
     },
     "metadata": {
      "needs_background": "light"
     },
     "output_type": "display_data"
    }
   ],
   "source": [
    "plt.plot(data_projected[0],data_projected[1])"
   ]
  },
  {
   "cell_type": "code",
   "execution_count": 156,
   "id": "87b68afb-5d30-4b48-9483-1554b3c7e928",
   "metadata": {},
   "outputs": [
    {
     "data": {
      "text/plain": [
       "(10856,)"
      ]
     },
     "execution_count": 156,
     "metadata": {},
     "output_type": "execute_result"
    }
   ],
   "source": [
    "df.Label.shape"
   ]
  },
  {
   "cell_type": "code",
   "execution_count": null,
   "id": "c950a992-55b4-4b8e-9074-2a53f7bac600",
   "metadata": {},
   "outputs": [],
   "source": []
  }
 ],
 "metadata": {
  "kernelspec": {
   "display_name": "Python 3 (ipykernel)",
   "language": "python",
   "name": "python3"
  },
  "language_info": {
   "codemirror_mode": {
    "name": "ipython",
    "version": 3
   },
   "file_extension": ".py",
   "mimetype": "text/x-python",
   "name": "python",
   "nbconvert_exporter": "python",
   "pygments_lexer": "ipython3",
   "version": "3.8.12"
  }
 },
 "nbformat": 4,
 "nbformat_minor": 5
}
