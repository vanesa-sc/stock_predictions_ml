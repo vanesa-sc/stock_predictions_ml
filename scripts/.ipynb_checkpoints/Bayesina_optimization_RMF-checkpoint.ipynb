{
  "nbformat": 4,
  "nbformat_minor": 0,
  "metadata": {
    "colab": {
      "name": "Untitled2.ipynb",
      "provenance": []
    },
    "kernelspec": {
      "name": "python3",
      "display_name": "Python 3"
    },
    "language_info": {
      "name": "python"
    }
  },
  "cells": [
    {
      "cell_type": "code",
      "execution_count": 1,
      "metadata": {
        "colab": {
          "base_uri": "https://localhost:8080/"
        },
        "id": "HwpMaCm0gzcJ",
        "outputId": "c5b76491-be22-416a-e274-1dfc0f1502ce"
      },
      "outputs": [
        {
          "output_type": "stream",
          "name": "stdout",
          "text": [
            "Collecting bayesian-optimization\n",
            "  Downloading bayesian-optimization-1.2.0.tar.gz (14 kB)\n",
            "Requirement already satisfied: numpy>=1.9.0 in /usr/local/lib/python3.7/dist-packages (from bayesian-optimization) (1.21.5)\n",
            "Requirement already satisfied: scipy>=0.14.0 in /usr/local/lib/python3.7/dist-packages (from bayesian-optimization) (1.4.1)\n",
            "Requirement already satisfied: scikit-learn>=0.18.0 in /usr/local/lib/python3.7/dist-packages (from bayesian-optimization) (1.0.2)\n",
            "Requirement already satisfied: joblib>=0.11 in /usr/local/lib/python3.7/dist-packages (from scikit-learn>=0.18.0->bayesian-optimization) (1.1.0)\n",
            "Requirement already satisfied: threadpoolctl>=2.0.0 in /usr/local/lib/python3.7/dist-packages (from scikit-learn>=0.18.0->bayesian-optimization) (3.1.0)\n",
            "Building wheels for collected packages: bayesian-optimization\n",
            "  Building wheel for bayesian-optimization (setup.py) ... \u001b[?25l\u001b[?25hdone\n",
            "  Created wheel for bayesian-optimization: filename=bayesian_optimization-1.2.0-py3-none-any.whl size=11685 sha256=5a0fc32a0b83b98cd5b61abd1354ca4433025d1af4629ac953f1012698ae1fba\n",
            "  Stored in directory: /root/.cache/pip/wheels/fd/9b/71/f127d694e02eb40bcf18c7ae9613b88a6be4470f57a8528c5b\n",
            "Successfully built bayesian-optimization\n",
            "Installing collected packages: bayesian-optimization\n",
            "Successfully installed bayesian-optimization-1.2.0\n"
          ]
        }
      ],
      "source": [
        "pip install bayesian-optimization \n"
      ]
    },
    {
      "cell_type": "code",
      "source": [
        "import pandas as pd\n",
        "from sklearn.datasets import make_classification\n",
        "from sklearn.model_selection import cross_validate\n",
        "from sklearn.ensemble import RandomForestClassifier as RFC"
      ],
      "metadata": {
        "id": "NnIKfQ_Mg3oE"
      },
      "execution_count": 67,
      "outputs": []
    },
    {
      "cell_type": "code",
      "source": [
        "from bayes_opt import BayesianOptimization\n",
        "from bayes_opt.util import Colours\n",
        "from sklearn.impute import SimpleImputer\n",
        "from sklearn.pipeline import make_pipeline\n",
        "from bayes_opt.logger import JSONLogger\n",
        "from bayes_opt.event import Events"
      ],
      "metadata": {
        "id": "O6sIhI80hD1Y"
      },
      "execution_count": 56,
      "outputs": []
    },
    {
      "cell_type": "code",
      "source": [
        "df = pd.read_csv('stocks_quarterly.csv')\n",
        "\n",
        "df2 = pd.read_csv('new_data_test.csv')\n",
        "\n",
        "df = pd.concat([df,df2])"
      ],
      "metadata": {
        "id": "RCNALVzohca6"
      },
      "execution_count": 30,
      "outputs": []
    },
    {
      "cell_type": "code",
      "source": [
        "cols_to_drop = df.isnull().mean().sort_values(ascending = False).head(45).index\n",
        "\n",
        "cols_to_drop = list(cols_to_drop) + ['fiscalDateEnding','reportedDate','price','nasd_price',\\\n",
        "                                     'next_year_date','next_year_price','nasd_ny_price','symbol',\\\n",
        "                                     'Nasdaq_Performance', 'Stock_Performance']\n",
        "\n",
        "df.drop(columns = cols_to_drop, inplace = True)"
      ],
      "metadata": {
        "id": "NvVCIcF1h3L4"
      },
      "execution_count": 31,
      "outputs": []
    },
    {
      "cell_type": "code",
      "source": [
        "df = df.drop_duplicates()"
      ],
      "metadata": {
        "id": "PX3PIW0YiBWb"
      },
      "execution_count": 32,
      "outputs": []
    },
    {
      "cell_type": "code",
      "source": [
        "X = df.drop(columns = 'Label')\n",
        "y = df.Label"
      ],
      "metadata": {
        "id": "N54FCgMDiFP4"
      },
      "execution_count": 33,
      "outputs": []
    },
    {
      "cell_type": "code",
      "source": [
        "pipline = make_pipeline(SimpleImputer(strategy='median'))"
      ],
      "metadata": {
        "id": "vrH7ldUaiID7"
      },
      "execution_count": 34,
      "outputs": []
    },
    {
      "cell_type": "code",
      "source": [
        "X = pipline.fit_transform(X)"
      ],
      "metadata": {
        "id": "L0LYie1miJC-"
      },
      "execution_count": 35,
      "outputs": []
    },
    {
      "cell_type": "code",
      "source": [
        "def rfc_cv(n_estimators, min_samples_split, max_features,max_depth,min_samples_leaf, data, targets):\n",
        "    \"\"\"Random Forest cross validation.\n",
        "    This function will instantiate a random forest classifier with parameters\n",
        "    n_estimators, min_samples_split, and max_features. Combined with data and\n",
        "    targets this will in turn be used to perform cross validation. The result\n",
        "    of cross validation is returned.\n",
        "    Our goal is to find combinations of n_estimators, min_samples_split, and\n",
        "    max_features that minimzes the log loss.\n",
        "    \"\"\"\n",
        "\n",
        "    estimator = RFC(\n",
        "        n_estimators=n_estimators,\n",
        "        min_samples_split=min_samples_split,\n",
        "        max_features=max_features,\n",
        "        max_depth = max_depth,\n",
        "        min_samples_leaf = min_samples_leaf,\n",
        "        random_state=2\n",
        "    )\n",
        "    cv = cross_validate(estimator, data, targets,\n",
        "                           scoring=['precision','recall'], cv=4)\n",
        "    cval = (cv['test_precision'].mean() * 2 + cv['test_recall'].mean())/3\n",
        "    \n",
        "    return cval.mean()"
      ],
      "metadata": {
        "id": "kADF9XmKhIQm"
      },
      "execution_count": 64,
      "outputs": []
    },
    {
      "cell_type": "code",
      "source": [
        "def optimize_rfc(data, targets):\n",
        "    \"\"\"Apply Bayesian Optimization to Random Forest parameters.\"\"\"\n",
        "    def rfc_crossval(n_estimators, min_samples_split, max_features,max_depth,min_samples_leaf):\n",
        "        \"\"\"Wrapper of RandomForest cross validation.\n",
        "        Notice how we ensure n_estimators and min_samples_split are casted\n",
        "        to integer before we pass them along. Moreover, to avoid max_features\n",
        "        taking values outside the (0, 1) range, we also ensure it is capped\n",
        "        accordingly.\n",
        "        \"\"\"\n",
        "        return rfc_cv(\n",
        "            n_estimators=int(n_estimators),\n",
        "            min_samples_split=int(min_samples_split),\n",
        "            max_features=max(min(max_features, 0.99), 1e-3),\n",
        "            max_depth = int(max_depth),\n",
        "            min_samples_leaf = int(min_samples_leaf),\n",
        "            data=X,\n",
        "            targets=y,\n",
        "        )\n",
        "\n",
        "    optimizer = BayesianOptimization(\n",
        "        f=rfc_crossval,\n",
        "        pbounds={\n",
        "            \"n_estimators\": (10, 400),\n",
        "            \"min_samples_split\": (2, 25),\n",
        "            \"max_features\": (0.1, 0.99),\n",
        "            'max_depth' : (3,200),\n",
        "            'min_samples_leaf' : (2,10)\n",
        "        },\n",
        "        random_state=1234,\n",
        "        verbose=2\n",
        "    )\n",
        "    \n",
        "    optimizer.maximize(init_points = 30, n_iter=400)\n",
        "\n",
        "    print(\"Final result:\", optimizer.max)"
      ],
      "metadata": {
        "id": "j8NFwFpxhaXS"
      },
      "execution_count": 65,
      "outputs": []
    },
    {
      "cell_type": "code",
      "source": [
        "optimizer  = optimize_rfc(X, y)"
      ],
      "metadata": {
        "colab": {
          "base_uri": "https://localhost:8080/"
        },
        "id": "9lL8IYnEjm9R",
        "outputId": "5992e85a-df6a-49ff-dae8-fa8f3b278cbb"
      },
      "execution_count": null,
      "outputs": [
        {
          "output_type": "stream",
          "name": "stdout",
          "text": [
            "|   iter    |  target   | max_depth | max_fe... | min_sa... | min_sa... | n_esti... |\n",
            "-------------------------------------------------------------------------------------\n",
            "| \u001b[0m 1       \u001b[0m | \u001b[0m 0.4178  \u001b[0m | \u001b[0m 40.73   \u001b[0m | \u001b[0m 0.6537  \u001b[0m | \u001b[0m 5.502   \u001b[0m | \u001b[0m 20.06   \u001b[0m | \u001b[0m 314.2   \u001b[0m |\n",
            "| \u001b[95m 2       \u001b[0m | \u001b[95m 0.4209  \u001b[0m | \u001b[95m 56.7    \u001b[0m | \u001b[95m 0.3461  \u001b[0m | \u001b[95m 8.415   \u001b[0m | \u001b[95m 24.04   \u001b[0m | \u001b[95m 351.6   \u001b[0m |\n",
            "| \u001b[0m 3       \u001b[0m | \u001b[0m 0.4055  \u001b[0m | \u001b[0m 73.49   \u001b[0m | \u001b[0m 0.5459  \u001b[0m | \u001b[0m 7.468   \u001b[0m | \u001b[0m 18.39   \u001b[0m | \u001b[0m 154.4   \u001b[0m |\n",
            "| \u001b[0m 4       \u001b[0m | \u001b[0m 0.4085  \u001b[0m | \u001b[0m 113.6   \u001b[0m | \u001b[0m 0.5477  \u001b[0m | \u001b[0m 2.11    \u001b[0m | \u001b[0m 19.78   \u001b[0m | \u001b[0m 354.2   \u001b[0m |\n",
            "| \u001b[0m 5       \u001b[0m | \u001b[0m 0.4154  \u001b[0m | \u001b[0m 74.88   \u001b[0m | \u001b[0m 0.6477  \u001b[0m | \u001b[0m 2.603   \u001b[0m | \u001b[0m 10.48   \u001b[0m | \u001b[0m 373.9   \u001b[0m |\n",
            "| \u001b[95m 6       \u001b[0m | \u001b[95m 0.4248  \u001b[0m | \u001b[95m 131.3   \u001b[0m | \u001b[95m 0.4535  \u001b[0m | \u001b[95m 8.31    \u001b[0m | \u001b[95m 9.287   \u001b[0m | \u001b[95m 231.6   \u001b[0m |\n",
            "| \u001b[0m 7       \u001b[0m | \u001b[0m 0.42    \u001b[0m | \u001b[0m 174.2   \u001b[0m | \u001b[0m 0.4882  \u001b[0m | \u001b[0m 8.417   \u001b[0m | \u001b[0m 5.307   \u001b[0m | \u001b[0m 284.7   \u001b[0m |\n",
            "| \u001b[0m 8       \u001b[0m | \u001b[0m 0.4096  \u001b[0m | \u001b[0m 141.8   \u001b[0m | \u001b[0m 0.2947  \u001b[0m | \u001b[0m 9.399   \u001b[0m | \u001b[0m 12.17   \u001b[0m | \u001b[0m 364.6   \u001b[0m |\n",
            "| \u001b[0m 9       \u001b[0m | \u001b[0m 0.415   \u001b[0m | \u001b[0m 14.78   \u001b[0m | \u001b[0m 0.264   \u001b[0m | \u001b[0m 2.379   \u001b[0m | \u001b[0m 17.52   \u001b[0m | \u001b[0m 241.9   \u001b[0m |\n",
            "| \u001b[0m 10      \u001b[0m | \u001b[0m 0.4081  \u001b[0m | \u001b[0m 108.1   \u001b[0m | \u001b[0m 0.1386  \u001b[0m | \u001b[0m 6.491   \u001b[0m | \u001b[0m 9.582   \u001b[0m | \u001b[0m 206.2   \u001b[0m |\n",
            "| \u001b[0m 11      \u001b[0m | \u001b[0m 0.4117  \u001b[0m | \u001b[0m 25.04   \u001b[0m | \u001b[0m 0.6404  \u001b[0m | \u001b[0m 6.528   \u001b[0m | \u001b[0m 2.156   \u001b[0m | \u001b[0m 250.8   \u001b[0m |\n",
            "| \u001b[0m 12      \u001b[0m | \u001b[0m 0.4109  \u001b[0m | \u001b[0m 182.7   \u001b[0m | \u001b[0m 0.8036  \u001b[0m | \u001b[0m 9.937   \u001b[0m | \u001b[0m 24.05   \u001b[0m | \u001b[0m 318.9   \u001b[0m |\n",
            "| \u001b[0m 13      \u001b[0m | \u001b[0m 0.4111  \u001b[0m | \u001b[0m 59.19   \u001b[0m | \u001b[0m 0.6562  \u001b[0m | \u001b[0m 5.825   \u001b[0m | \u001b[0m 6.501   \u001b[0m | \u001b[0m 159.1   \u001b[0m |\n",
            "| \u001b[0m 14      \u001b[0m | \u001b[0m 0.3956  \u001b[0m | \u001b[0m 13.61   \u001b[0m | \u001b[0m 0.502   \u001b[0m | \u001b[0m 9.856   \u001b[0m | \u001b[0m 4.851   \u001b[0m | \u001b[0m 56.56   \u001b[0m |\n",
            "| \u001b[0m 15      \u001b[0m | \u001b[0m 0.4019  \u001b[0m | \u001b[0m 148.5   \u001b[0m | \u001b[0m 0.6227  \u001b[0m | \u001b[0m 5.773   \u001b[0m | \u001b[0m 4.464   \u001b[0m | \u001b[0m 99.4    \u001b[0m |\n",
            "| \u001b[0m 16      \u001b[0m | \u001b[0m 0.4145  \u001b[0m | \u001b[0m 180.3   \u001b[0m | \u001b[0m 0.4709  \u001b[0m | \u001b[0m 6.287   \u001b[0m | \u001b[0m 2.143   \u001b[0m | \u001b[0m 127.3   \u001b[0m |\n",
            "| \u001b[0m 17      \u001b[0m | \u001b[0m 0.4072  \u001b[0m | \u001b[0m 89.07   \u001b[0m | \u001b[0m 0.6448  \u001b[0m | \u001b[0m 9.346   \u001b[0m | \u001b[0m 16.39   \u001b[0m | \u001b[0m 285.3   \u001b[0m |\n",
            "| \u001b[0m 18      \u001b[0m | \u001b[0m 0.4189  \u001b[0m | \u001b[0m 32.52   \u001b[0m | \u001b[0m 0.764   \u001b[0m | \u001b[0m 8.648   \u001b[0m | \u001b[0m 16.58   \u001b[0m | \u001b[0m 180.9   \u001b[0m |\n",
            "| \u001b[0m 19      \u001b[0m | \u001b[0m 0.4174  \u001b[0m | \u001b[0m 33.06   \u001b[0m | \u001b[0m 0.6059  \u001b[0m | \u001b[0m 6.226   \u001b[0m | \u001b[0m 23.88   \u001b[0m | \u001b[0m 197.3   \u001b[0m |\n",
            "| \u001b[0m 20      \u001b[0m | \u001b[0m 0.4232  \u001b[0m | \u001b[0m 102.0   \u001b[0m | \u001b[0m 0.5778  \u001b[0m | \u001b[0m 8.554   \u001b[0m | \u001b[0m 3.314   \u001b[0m | \u001b[0m 271.1   \u001b[0m |\n",
            "| \u001b[0m 21      \u001b[0m | \u001b[0m 0.4114  \u001b[0m | \u001b[0m 154.1   \u001b[0m | \u001b[0m 0.7302  \u001b[0m | \u001b[0m 8.375   \u001b[0m | \u001b[0m 14.83   \u001b[0m | \u001b[0m 386.7   \u001b[0m |\n",
            "| \u001b[0m 22      \u001b[0m | \u001b[0m 0.4016  \u001b[0m | \u001b[0m 31.99   \u001b[0m | \u001b[0m 0.1264  \u001b[0m | \u001b[0m 6.751   \u001b[0m | \u001b[0m 4.624   \u001b[0m | \u001b[0m 380.8   \u001b[0m |\n",
            "| \u001b[95m 23      \u001b[0m | \u001b[95m 0.4287  \u001b[0m | \u001b[95m 67.16   \u001b[0m | \u001b[95m 0.2723  \u001b[0m | \u001b[95m 5.662   \u001b[0m | \u001b[95m 23.17   \u001b[0m | \u001b[95m 352.8   \u001b[0m |\n",
            "| \u001b[0m 24      \u001b[0m | \u001b[0m 0.4081  \u001b[0m | \u001b[0m 52.77   \u001b[0m | \u001b[0m 0.4097  \u001b[0m | \u001b[0m 3.461   \u001b[0m | \u001b[0m 22.74   \u001b[0m | \u001b[0m 285.5   \u001b[0m |\n",
            "| \u001b[0m 25      \u001b[0m | \u001b[0m 0.3979  \u001b[0m | \u001b[0m 146.2   \u001b[0m | \u001b[0m 0.9011  \u001b[0m | \u001b[0m 8.233   \u001b[0m | \u001b[0m 15.78   \u001b[0m | \u001b[0m 123.5   \u001b[0m |\n",
            "| \u001b[0m 26      \u001b[0m | \u001b[0m 0.4003  \u001b[0m | \u001b[0m 32.82   \u001b[0m | \u001b[0m 0.3983  \u001b[0m | \u001b[0m 7.26    \u001b[0m | \u001b[0m 3.687   \u001b[0m | \u001b[0m 31.45   \u001b[0m |\n",
            "| \u001b[0m 27      \u001b[0m | \u001b[0m 0.3968  \u001b[0m | \u001b[0m 66.67   \u001b[0m | \u001b[0m 0.6255  \u001b[0m | \u001b[0m 8.831   \u001b[0m | \u001b[0m 8.602   \u001b[0m | \u001b[0m 77.5    \u001b[0m |\n"
          ]
        }
      ]
    },
    {
      "cell_type": "code",
      "source": [
        "logger = JSONLogger(path=\"./logs.json\")\n"
      ],
      "metadata": {
        "id": "Mza72DAGju7G"
      },
      "execution_count": 57,
      "outputs": []
    }
  ]
}