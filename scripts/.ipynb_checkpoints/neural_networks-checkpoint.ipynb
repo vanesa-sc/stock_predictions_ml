{
 "cells": [
  {
   "cell_type": "code",
   "execution_count": null,
   "id": "83c68e22-64b8-4347-ba86-b09e0b479dbf",
   "metadata": {},
   "outputs": [],
   "source": [
    "import pandas as pd\n",
    "import numpy as np\n",
    "import seaborn as sns\n",
    "import matplotlib.pyplot as plt"
   ]
  },
  {
   "cell_type": "code",
   "execution_count": null,
   "id": "f718272e-6921-4021-8d57-3171d2fa4874",
   "metadata": {},
   "outputs": [],
   "source": [
    "df = pd.read_csv('stocks_quarterly.csv')"
   ]
  },
  {
   "cell_type": "code",
   "execution_count": null,
   "id": "1423273c-b915-457d-b354-26deb98b0908",
   "metadata": {},
   "outputs": [],
   "source": [
    "cols_to_drop = df.isnull().mean().sort_values(ascending = False).head(45).index"
   ]
  },
  {
   "cell_type": "code",
   "execution_count": null,
   "id": "e4fb8563-6cb1-48aa-8841-46d91020c85d",
   "metadata": {},
   "outputs": [],
   "source": [
    "df.drop(columns = cols_to_drop, inplace = True)"
   ]
  },
  {
   "cell_type": "code",
   "execution_count": null,
   "id": "737fbb5d-0b88-4f74-96b0-cf1d1a90eeda",
   "metadata": {},
   "outputs": [],
   "source": [
    "df = df.drop(columns = ['fiscalDateEnding','reportedDate','price','nasd_price','next_year_date','next_year_price','nasd_ny_price','symbol','Nasdaq_Performance', 'Stock_Performance'])"
   ]
  },
  {
   "cell_type": "code",
   "execution_count": null,
   "id": "3f2269ce-cc53-43a9-8c80-01bcb978e0ca",
   "metadata": {},
   "outputs": [],
   "source": []
  }
 ],
 "metadata": {
  "kernelspec": {
   "display_name": "Python 3 (ipykernel)",
   "language": "python",
   "name": "python3"
  },
  "language_info": {
   "codemirror_mode": {
    "name": "ipython",
    "version": 3
   },
   "file_extension": ".py",
   "mimetype": "text/x-python",
   "name": "python",
   "nbconvert_exporter": "python",
   "pygments_lexer": "ipython3",
   "version": "3.8.12"
  }
 },
 "nbformat": 4,
 "nbformat_minor": 5
}
