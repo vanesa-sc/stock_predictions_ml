{
 "cells": [
  {
   "cell_type": "code",
   "execution_count": 28,
   "id": "7fbd725f-7ce1-4f34-9880-e66ae0889b61",
   "metadata": {},
   "outputs": [],
   "source": [
    "import pandas as pd\n",
    "from sklearn.datasets import make_classification\n",
    "from sklearn.model_selection import cross_validate\n",
    "from sklearn.impute import SimpleImputer\n",
    "from sklearn.pipeline import make_pipeline\n",
    "from bayes_opt.logger import JSONLogger\n",
    "from bayes_opt.event import Events\n",
    "from xgboost import XGBClassifier\n",
    "from sklearn.metrics import confusion_matrix\n",
    "from sklearn.model_selection import cross_val_score"
   ]
  },
  {
   "cell_type": "code",
   "execution_count": 29,
   "id": "812bf53d-c1c9-4aab-8907-f03c45b9d4e0",
   "metadata": {},
   "outputs": [],
   "source": [
    "df = pd.read_csv('../data/stocks_quarterly.csv')\n",
    "\n",
    "df2 = pd.read_csv('../data/new_data_test.csv')\n",
    "\n",
    "cols_to_drop = df.isnull().mean().sort_values(ascending = False).head(45).index\n",
    "\n",
    "cols_to_drop = list(cols_to_drop) + ['fiscalDateEnding','reportedDate','price','nasd_price',\\\n",
    "                                     'next_year_date','next_year_price','nasd_ny_price','symbol',\\\n",
    "                                     'Nasdaq_Performance', 'Stock_Performance']\n",
    "\n",
    "df.drop(columns = cols_to_drop, inplace = True)\n",
    "\n",
    "df = df.drop_duplicates()\n",
    "\n",
    "X = df.drop(columns = 'Label')\n",
    "y = df.Label\n",
    "\n",
    "pipline = make_pipeline(SimpleImputer(strategy='median'))\n",
    "\n",
    "X = pipline.fit_transform(X)"
   ]
  },
  {
   "cell_type": "code",
   "execution_count": null,
   "id": "055238ae-9da5-40ec-aec3-a4dd4892489b",
   "metadata": {},
   "outputs": [],
   "source": [
    "{'alpha': 4.920429154892943, 'colsample_bytree': 0.50523041456644, 'eta': 0.019902707539573634, 'gamma': 1.5855410310434896, 'max_bin': 31.096242241920844, 'max_leaves': 162.13418326428646, 'min_child_weight': 7.282409845599227}}"
   ]
  },
  {
   "cell_type": "code",
   "execution_count": 93,
   "id": "3fd01e18-9c7e-46bd-ab80-c19f92c5da7e",
   "metadata": {
    "tags": []
   },
   "outputs": [
    {
     "data": {
      "text/plain": [
       "XGBClassifier(alpha=4.920429154892943, base_score=0.5, booster='gbtree',\n",
       "              colsample_bylevel=1, colsample_bynode=1,\n",
       "              colsample_bytree=0.50523041456644, enable_categorical=False,\n",
       "              eta=0.019902707539573634, eval_metric='mlogloss',\n",
       "              gamma=1.5855410310434896, gpu_id=-1, importance_type=None,\n",
       "              interaction_constraints='', learning_rate=0.019902708, max_bin=31,\n",
       "              max_delta_step=0, max_depth=6, max_leaves=162, min_child_weight=7,\n",
       "              missing=nan, monotone_constraints='()', n_estimators=100,\n",
       "              n_jobs=8, num_parallel_tree=1, predictor='auto', random_state=0,\n",
       "              reg_alpha=4.92042923, reg_lambda=1, scale_pos_weight=1,\n",
       "              subsample=1, ...)"
      ]
     },
     "execution_count": 93,
     "metadata": {},
     "output_type": "execute_result"
    }
   ],
   "source": [
    "estimator = XGBClassifier( \n",
    "                           min_child_weight = 7,\n",
    "                           max_bin = 31,\n",
    "                           max_leaves = 162,\n",
    "                           eta = 0.019902707539573634,\n",
    "                           gamma = 1.5855410310434896 ,\n",
    "                           colsample_bytree = 0.50523041456644,\n",
    "                           alpha = 4.920429154892943,\n",
    "                           eval_metric='mlogloss',\n",
    "                         use_label_encoder=False)\n",
    "\n",
    "estimator.fit(X,y)"
   ]
  },
  {
   "cell_type": "code",
   "execution_count": 94,
   "id": "06cbb48c-cd94-4edd-9540-e378b48dc18b",
   "metadata": {},
   "outputs": [],
   "source": [
    "cv = cross_validate(estimator,X,y,cv =5, scoring = ['accuracy','precision','recall','f1'] )"
   ]
  },
  {
   "cell_type": "markdown",
   "id": "e4fa739f-04da-4b66-8be7-f8d12b8d1323",
   "metadata": {},
   "source": [
    "### Scores"
   ]
  },
  {
   "cell_type": "code",
   "execution_count": 95,
   "id": "cd307d51-4cac-4e9a-a0e0-8d71e693ece6",
   "metadata": {},
   "outputs": [
    {
     "name": "stdout",
     "output_type": "stream",
     "text": [
      "0.6728929384965833\n",
      "0.5920447892260252\n",
      "0.08214497424534546\n",
      "0.14408915221426447\n"
     ]
    }
   ],
   "source": [
    "print(cv['test_accuracy'].mean())\n",
    "print(cv['test_precision'].mean())\n",
    "print(cv['test_recall'].mean())\n",
    "print(cv['test_f1'].mean())"
   ]
  },
  {
   "cell_type": "markdown",
   "id": "566e3027-11ca-4476-923d-0f668772a483",
   "metadata": {},
   "source": [
    "## New Data"
   ]
  },
  {
   "cell_type": "code",
   "execution_count": 96,
   "id": "9ca1260d-01e3-4cd8-a54f-3fdb361bc06a",
   "metadata": {},
   "outputs": [],
   "source": [
    "df2 = pd.read_csv('../data/new_data_test.csv')\n",
    "\n",
    "df2.drop(columns = cols_to_drop, inplace = True)\n",
    "\n",
    "df2 = df2.drop_duplicates()\n",
    "\n",
    "X_new = df2.drop(columns = 'Label')\n",
    "y_new = df2.Label\n",
    "\n",
    "X_new = pipline.transform(X_new)"
   ]
  },
  {
   "cell_type": "markdown",
   "id": "f046ced6-ee97-4877-85b7-74aa4b856c7f",
   "metadata": {},
   "source": [
    "#### Confussion Matrix"
   ]
  },
  {
   "cell_type": "code",
   "execution_count": 97,
   "id": "5e5e271f-8886-4eb2-9a75-80e5c5698b8a",
   "metadata": {},
   "outputs": [
    {
     "data": {
      "text/plain": [
       "array([[ 30, 296],\n",
       "       [ 24, 590]])"
      ]
     },
     "execution_count": 97,
     "metadata": {},
     "output_type": "execute_result"
    }
   ],
   "source": [
    "y_pred = estimator.predict(X_new)\n",
    "matrix = confusion_matrix(y_new,y_pred,labels = [1,0])\n",
    "matrix"
   ]
  },
  {
   "cell_type": "markdown",
   "id": "4103c058-f4f5-4e90-824b-91497a2b295c",
   "metadata": {},
   "source": [
    "### Precision and Recall"
   ]
  },
  {
   "cell_type": "code",
   "execution_count": 98,
   "id": "5f2e23ac-16c6-4c06-a1e3-e2b7a4443adc",
   "metadata": {},
   "outputs": [
    {
     "name": "stdout",
     "output_type": "stream",
     "text": [
      "precision: 0.56\n",
      "recall: 0.09\n"
     ]
    }
   ],
   "source": [
    "print(f'precision: {(matrix[0][0]/(matrix[0][0]+matrix[1][0])):.2f}')\n",
    "print(f'recall: {(matrix[0][0]/(matrix[0][0]+matrix[0][1])):.2f}')  "
   ]
  },
  {
   "cell_type": "code",
   "execution_count": 100,
   "id": "4d4a2c45-612a-4c8c-9f5b-3294cdcdb6f8",
   "metadata": {},
   "outputs": [
    {
     "data": {
      "text/plain": [
       "0.49333333333333335"
      ]
     },
     "execution_count": 100,
     "metadata": {},
     "output_type": "execute_result"
    }
   ],
   "source": [
    "(2*0.65+0.18)/3"
   ]
  },
  {
   "cell_type": "code",
   "execution_count": 87,
   "id": "ba6eabd1-1aaa-418f-b5f9-c9e27a1c44ff",
   "metadata": {},
   "outputs": [
    {
     "data": {
      "text/plain": [
       "surprisePercentage                       0.063326\n",
       "otherCurrentAssets                       0.049891\n",
       "reportedEPS                              0.032553\n",
       "ebitda                                   0.028170\n",
       "otherNonCurrrentAssets                   0.027230\n",
       "surprise                                 0.026727\n",
       "estimatedEPS                             0.026071\n",
       "incomeBeforeTax                          0.023140\n",
       "interestExpense                          0.022210\n",
       "sellingGeneralAndAdministrative          0.022159\n",
       "totalRevenue                             0.021925\n",
       "propertyPlantEquipment                   0.021824\n",
       "grossProfit                              0.021594\n",
       "totalShareholderEquity                   0.021470\n",
       "retainedEarnings                         0.021324\n",
       "otherCurrentLiabilities                  0.021301\n",
       "ebit                                     0.021012\n",
       "totalLiabilities                         0.020945\n",
       "totalAssets                              0.020743\n",
       "totalCurrentLiabilities                  0.020605\n",
       "operatingExpenses                        0.020254\n",
       "depreciationAndAmortization              0.020106\n",
       "commonStockSharesOutstanding             0.019978\n",
       "costofGoodsAndServicesSold               0.019674\n",
       "shortLongTermDebtTotal                   0.019635\n",
       "capitalExpenditures                      0.019557\n",
       "incomeTaxExpense                         0.019543\n",
       "operatingIncome                          0.019408\n",
       "totalNonCurrentLiabilities               0.018989\n",
       "depreciationDepletionAndAmortization     0.018886\n",
       "changeInCashAndCashEquivalents           0.018734\n",
       "commonStock                              0.018428\n",
       "totalNonCurrentAssets                    0.018378\n",
       "cashAndCashEquivalentsAtCarryingValue    0.018269\n",
       "costOfRevenue                            0.018056\n",
       "netIncome_y                              0.017914\n",
       "netIncome_x                              0.017834\n",
       "comprehensiveIncomeNetOfTax              0.017711\n",
       "operatingCashflow                        0.017622\n",
       "totalCurrentAssets                       0.017550\n",
       "cashAndShortTermInvestments              0.016287\n",
       "netIncomeFromContinuingOperations        0.015219\n",
       "profitLoss                               0.014982\n",
       "cashflowFromInvestment                   0.014881\n",
       "cashflowFromFinancing                    0.014227\n",
       "proceedsFromRepurchaseOfEquity           0.013658\n",
       "dtype: float32"
      ]
     },
     "execution_count": 87,
     "metadata": {},
     "output_type": "execute_result"
    }
   ],
   "source": [
    "pd.Series(estimator.feature_importances_,index = df.columns[0:-1]).sort_values(ascending = False)"
   ]
  },
  {
   "cell_type": "code",
   "execution_count": 84,
   "id": "ee4deafe-3e1b-4464-a7ae-2b8c9fb89a06",
   "metadata": {},
   "outputs": [
    {
     "data": {
      "text/plain": [
       "(46,)"
      ]
     },
     "execution_count": 84,
     "metadata": {},
     "output_type": "execute_result"
    }
   ],
   "source": [
    "estimator.feature_importances_.shape"
   ]
  },
  {
   "cell_type": "code",
   "execution_count": null,
   "id": "280f02f8-5c27-4d10-87bb-80cf3d0b680e",
   "metadata": {},
   "outputs": [],
   "source": []
  }
 ],
 "metadata": {
  "kernelspec": {
   "display_name": "Python 3 (ipykernel)",
   "language": "python",
   "name": "python3"
  },
  "language_info": {
   "codemirror_mode": {
    "name": "ipython",
    "version": 3
   },
   "file_extension": ".py",
   "mimetype": "text/x-python",
   "name": "python",
   "nbconvert_exporter": "python",
   "pygments_lexer": "ipython3",
   "version": "3.8.12"
  }
 },
 "nbformat": 4,
 "nbformat_minor": 5
}
