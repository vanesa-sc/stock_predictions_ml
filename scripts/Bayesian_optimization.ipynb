{
 "cells": [
  {
   "cell_type": "code",
   "execution_count": 92,
   "metadata": {
    "id": "O6sIhI80hD1Y",
    "tags": []
   },
   "outputs": [],
   "source": [
    "import pandas as pd\n",
    "from sklearn.datasets import make_classification\n",
    "from sklearn.model_selection import cross_validate\n",
    "from sklearn.ensemble import RandomForestClassifier as RFC\n",
    "from bayes_opt import BayesianOptimization\n",
    "from bayes_opt.util import Colours\n",
    "from sklearn.impute import SimpleImputer\n",
    "from sklearn.pipeline import make_pipeline\n",
    "from bayes_opt.logger import JSONLogger\n",
    "from bayes_opt.event import Events\n",
    "from xgboost import XGBClassifier\n",
    "from imblearn.under_sampling import RandomUnderSampler\n"
   ]
  },
  {
   "cell_type": "code",
   "execution_count": 93,
   "metadata": {
    "id": "RCNALVzohca6"
   },
   "outputs": [],
   "source": [
    "df = pd.read_csv('../data/stocks_quarterly.csv')\n",
    "\n",
    "df2 = pd.read_csv('../data/new_data_test.csv')\n",
    "\n",
    "df = pd.concat([df,df2])\n",
    "\n",
    "cols_to_drop = df.isnull().mean().sort_values(ascending = False).head(45).index\n",
    "\n",
    "cols_to_drop = list(cols_to_drop) + ['fiscalDateEnding','reportedDate','price','nasd_price',\\\n",
    "                                     'next_year_date','next_year_price','nasd_ny_price','symbol',\\\n",
    "                                     'Nasdaq_Performance', 'Stock_Performance']\n",
    "\n",
    "df.drop(columns = cols_to_drop, inplace = True)\n",
    "\n",
    "df = df.drop_duplicates()\n",
    "\n",
    "X = df.drop(columns = 'Label')\n",
    "y = df.Label\n",
    "\n",
    "undersample = RandomUnderSampler(sampling_strategy=0.75)\n",
    "X, y = undersample.fit_resample(X, y)\n"
   ]
  },
  {
   "cell_type": "code",
   "execution_count": 94,
   "metadata": {},
   "outputs": [],
   "source": [
    "pipline = make_pipeline(SimpleImputer(strategy='median'))\n",
    "\n",
    "X = pipline.fit_transform(X)"
   ]
  },
  {
   "cell_type": "code",
   "execution_count": 95,
   "metadata": {},
   "outputs": [],
   "source": [
    "logger = JSONLogger(path=\"./logs.json\")"
   ]
  },
  {
   "cell_type": "code",
   "execution_count": 96,
   "metadata": {
    "id": "kADF9XmKhIQm"
   },
   "outputs": [],
   "source": [
    "def rfc_cv(min_child_weight,max_bin,max_leaves,eta,gamma,colsample_bytree,alpha, data, targets):\n",
    "    \"\"\"Random Forest cross validation.\n",
    "    This function will instantiate a random forest classifier with parameters\n",
    "    n_estimators, min_samples_split, and max_features. Combined with data and\n",
    "    targets this will in turn be used to perform cross validation. The result\n",
    "    of cross validation is returned.\n",
    "    Our goal is to find combinations of n_estimators, min_samples_split, and\n",
    "    max_features that minimzes the log loss.\n",
    "    \"\"\"\n",
    "    estimator = XGBClassifier( \n",
    "                               min_child_weight = min_child_weight,\n",
    "                               max_bin = max_bin,\n",
    "                               max_leaves = max_leaves,\n",
    "                               eta = eta,\n",
    "                               gamma = gamma,\n",
    "                               colsample_bytree = colsample_bytree,\n",
    "                               alpha = alpha,\n",
    "                               eval_metric='mlogloss',\n",
    "                             use_label_encoder=False)\n",
    "\n",
    "    cv = cross_validate(estimator, data, targets,\n",
    "                           scoring=['precision','recall'], cv=4)\n",
    "    cval = (cv['test_precision'].mean() * 2 + cv['test_recall'].mean())/3\n",
    "    \n",
    "    return cval.mean()"
   ]
  },
  {
   "cell_type": "code",
   "execution_count": 97,
   "metadata": {
    "id": "j8NFwFpxhaXS"
   },
   "outputs": [],
   "source": [
    "def optimize_rfc(data, targets):\n",
    "    \"\"\"Apply Bayesian Optimization to Random Forest parameters.\"\"\"\n",
    "    def rfc_crossval(min_child_weight,max_bin,max_leaves,eta,gamma,colsample_bytree,alpha,):\n",
    "        \"\"\"Wrapper of RandomForest cross validation.\n",
    "        Notice how we ensure n_estimators and min_samples_split are casted\n",
    "        to integer before we pass them along. Moreover, to avoid max_features\n",
    "        taking values outside the (0, 1) range, we also ensure it is capped\n",
    "        accordingly.\n",
    "        \"\"\"\n",
    "        return rfc_cv(\n",
    "    \n",
    "           min_child_weight = int(min_child_weight),\n",
    "           max_bin = int(max_bin),\n",
    "           max_leaves = int(max_leaves),\n",
    "           eta = eta,\n",
    "           gamma = gamma,\n",
    "           colsample_bytree = colsample_bytree,\n",
    "           alpha = alpha,\n",
    "            data=X,\n",
    "            targets=y,\n",
    "        )\n",
    "\n",
    "    optimizer = BayesianOptimization(\n",
    "        f=rfc_crossval,\n",
    "        pbounds={\n",
    "                  'min_child_weight':(0,20),\n",
    "                  'max_bin': (30,300),#int\n",
    "                  'max_leaves':(32,1024),\n",
    "                  'eta':(0.01,0.3),\n",
    "                  'gamma':(0,5),\n",
    "                  'colsample_bytree':(0.2,1),\n",
    "                  'alpha':(0,5),\n",
    "        },\n",
    "        random_state=1234,\n",
    "        verbose=2\n",
    "    )\n",
    "    \n",
    "    optimizer.subscribe(Events.OPTIMIZATION_STEP, logger)\n",
    "    optimizer.maximize(init_points = 30, n_iter=3000)\n",
    "    \n",
    "\n",
    "    print(\"Final result:\", optimizer.max)"
   ]
  },
  {
   "cell_type": "code",
   "execution_count": null,
   "metadata": {
    "id": "9lL8IYnEjm9R"
   },
   "outputs": [],
   "source": [
    "optimizer  = optimize_rfc(X, y)"
   ]
  },
  {
   "cell_type": "code",
   "execution_count": 12,
   "metadata": {
    "id": "Mza72DAGju7G"
   },
   "outputs": [],
   "source": [
    "\n"
   ]
  },
  {
   "cell_type": "code",
   "execution_count": null,
   "metadata": {},
   "outputs": [],
   "source": []
  }
 ],
 "metadata": {
  "colab": {
   "name": "Untitled2.ipynb",
   "provenance": []
  },
  "kernelspec": {
   "display_name": "Python 3 (ipykernel)",
   "language": "python",
   "name": "python3"
  },
  "language_info": {
   "codemirror_mode": {
    "name": "ipython",
    "version": 3
   },
   "file_extension": ".py",
   "mimetype": "text/x-python",
   "name": "python",
   "nbconvert_exporter": "python",
   "pygments_lexer": "ipython3",
   "version": "3.8.12"
  }
 },
 "nbformat": 4,
 "nbformat_minor": 4
}
