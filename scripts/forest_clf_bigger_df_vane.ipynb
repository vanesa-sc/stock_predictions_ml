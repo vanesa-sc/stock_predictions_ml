{
  "nbformat": 4,
  "nbformat_minor": 0,
  "metadata": {
    "colab": {
      "name": "forest_and_clf_bigger_df.ipynb",
      "provenance": []
    },
    "kernelspec": {
      "name": "python3",
      "display_name": "Python 3"
    },
    "language_info": {
      "name": "python"
    }
  },
  "cells": [
    {
      "cell_type": "code",
      "execution_count": null,
      "metadata": {
        "id": "Fqx5Tlb6E2Zc"
      },
      "outputs": [],
      "source": [
        "import pandas as pd\n",
        "\n",
        "import numpy as np"
      ]
    },
    {
      "cell_type": "code",
      "source": [
        "data=pd.read_csv('/content/stocks_quarterly.csv')"
      ],
      "metadata": {
        "id": "3_rJYGrWFd9k"
      },
      "execution_count": null,
      "outputs": []
    },
    {
      "cell_type": "code",
      "source": [
        "data=data.dropna(subset=['grossProfit','operatingExpenses','ebit','netIncome_x','totalAssets'])"
      ],
      "metadata": {
        "id": "DB_EpFimFnSd"
      },
      "execution_count": null,
      "outputs": []
    },
    {
      "cell_type": "code",
      "source": [
        "data=data.drop(columns=['Stock_Performance','Nasdaq_Performance','nasd_ny_price','price','fiscalDateEnding','nasd_price',\t'next_year_date',\t'next_year_price','symbol','reportedDate'])"
      ],
      "metadata": {
        "id": "fHj8SfZXFvvV"
      },
      "execution_count": null,
      "outputs": []
    },
    {
      "cell_type": "code",
      "source": [
        "cols_to_drop = data.isnull().mean().sort_values(ascending = False).head(45).index"
      ],
      "metadata": {
        "id": "DAOMxC5lFwXr"
      },
      "execution_count": null,
      "outputs": []
    },
    {
      "cell_type": "code",
      "source": [
        "data.drop(columns = cols_to_drop, inplace = True)"
      ],
      "metadata": {
        "id": "7asmHyGIF0wh"
      },
      "execution_count": null,
      "outputs": []
    },
    {
      "cell_type": "code",
      "source": [
        "data=data.drop_duplicates()"
      ],
      "metadata": {
        "id": "caf2RFVbGbq8"
      },
      "execution_count": null,
      "outputs": []
    },
    {
      "cell_type": "code",
      "source": [
        "X=data.drop(columns='Label')"
      ],
      "metadata": {
        "id": "4QQMmYFXF1Wn"
      },
      "execution_count": null,
      "outputs": []
    },
    {
      "cell_type": "code",
      "source": [
        "y=data['Label']"
      ],
      "metadata": {
        "id": "Y8qVJCxXF3L3"
      },
      "execution_count": null,
      "outputs": []
    },
    {
      "cell_type": "code",
      "source": [
        "from sklearn.impute import KNNImputer\n",
        "from sklearn.model_selection import cross_validate\n",
        "\n",
        "\n",
        "imputer = KNNImputer(n_neighbors=2)\n",
        "\n",
        "imputed =imputer.fit_transform(X)\n",
        "\n",
        "\n",
        "X = pd.DataFrame(imputed, columns=X.columns)"
      ],
      "metadata": {
        "id": "TLAn5i25F5gX"
      },
      "execution_count": null,
      "outputs": []
    },
    {
      "cell_type": "code",
      "source": [
        "from imblearn.under_sampling import RandomUnderSampler\n",
        "\n",
        "rus = RandomUnderSampler(random_state=42,sampling_strategy=0.75)\n",
        "X_res, y_res = rus.fit_resample(X, y)\n",
        "\n"
      ],
      "metadata": {
        "id": "uiZC-VarF74c"
      },
      "execution_count": null,
      "outputs": []
    },
    {
      "cell_type": "code",
      "source": [
        "from sklearn.model_selection import train_test_split\n",
        "\n",
        "X_train, X_test, y_train, y_test = train_test_split(X_res, y_res, test_size=0.33, random_state=42)"
      ],
      "metadata": {
        "id": "CSp7nHdCGAtG"
      },
      "execution_count": null,
      "outputs": []
    },
    {
      "cell_type": "code",
      "source": [
        "from sklearn.ensemble import RandomForestClassifier\n",
        "\n",
        "forest_tunned = RandomForestClassifier(bootstrap= True,\n",
        " max_depth= 70,\n",
        " max_features= 1,\n",
        " min_samples_leaf= 2,\n",
        " min_samples_split= 8,\n",
        " n_estimators= 200)\n",
        "\n",
        "\n",
        "result_forest_tunned= cross_validate(forest_tunned, X_train, y_train, scoring = [\"precision\",\"accuracy\",\"f1\",\"recall\",\"roc_auc\"], cv=5)\n",
        "\n",
        "accuracy_tunned=result_forest_tunned['test_accuracy'].mean()\n",
        "precision_tunned=result_forest_tunned['test_precision'].mean()\n",
        "recall_tunned=result_forest_tunned['test_recall'].mean()\n",
        "f1_tunned=result_forest_tunned['test_f1'].mean()\n",
        "roc_tunned=result_forest_tunned['test_roc_auc'].mean()\n",
        "\n",
        "\n",
        "result_forest_tunned"
      ],
      "metadata": {
        "colab": {
          "base_uri": "https://localhost:8080/"
        },
        "id": "k-0LJELAGBc0",
        "outputId": "e6e81506-be9a-47b4-870a-82916ce1368b"
      },
      "execution_count": null,
      "outputs": [
        {
          "output_type": "execute_result",
          "data": {
            "text/plain": [
              "{'fit_time': array([0.96268249, 0.9713037 , 0.96422267, 0.96433258, 1.25229216]),\n",
              " 'score_time': array([0.10299873, 0.10081363, 0.10315418, 0.17672539, 0.10182309]),\n",
              " 'test_accuracy': array([0.64615385, 0.66587678, 0.62677725, 0.64691943, 0.63981043]),\n",
              " 'test_f1': array([0.52614897, 0.52684564, 0.48105437, 0.50662252, 0.51746032]),\n",
              " 'test_precision': array([0.62641509, 0.6826087 , 0.60580913, 0.64285714, 0.61742424]),\n",
              " 'test_recall': array([0.45355191, 0.42896175, 0.3989071 , 0.41803279, 0.44535519]),\n",
              " 'test_roc_auc': array([0.7103597 , 0.71830487, 0.66853579, 0.70063104, 0.66849007])}"
            ]
          },
          "metadata": {},
          "execution_count": 16
        }
      ]
    },
    {
      "cell_type": "code",
      "source": [
        "forest_tunned.fit(X_train,y_train)"
      ],
      "metadata": {
        "colab": {
          "base_uri": "https://localhost:8080/"
        },
        "id": "vTKBoOQijWMQ",
        "outputId": "1fa8388a-2b05-4882-84f3-b0e9e9a38358"
      },
      "execution_count": null,
      "outputs": [
        {
          "output_type": "execute_result",
          "data": {
            "text/plain": [
              "RandomForestClassifier(max_depth=70, max_features=1, min_samples_leaf=2,\n",
              "                       min_samples_split=8, n_estimators=200)"
            ]
          },
          "metadata": {},
          "execution_count": 18
        }
      ]
    },
    {
      "cell_type": "code",
      "source": [
        "import pickle\n",
        "\n",
        "Pkl_Filename = \"Pickle_RL_Model.pkl\"  \n",
        "\n",
        "with open(Pkl_Filename, 'wb') as file:  \n",
        "    pickle.dump(forest_tunned, file)"
      ],
      "metadata": {
        "id": "2mQNoqddjiN_"
      },
      "execution_count": null,
      "outputs": []
    },
    {
      "cell_type": "code",
      "source": [
        "import matplotlib.pyplot as plt\n",
        "from sklearn.model_selection import learning_curve\n",
        "import numpy as np\n",
        "\n",
        "train_sizes, train_scores, test_scores = learning_curve(estimator = RandomForestClassifier(bootstrap= True,\n",
        "                                                                                           max_depth= 70,\n",
        "                                                                                           max_features= 1,\n",
        "                                                                                           min_samples_leaf= 1,\n",
        "                                                                                           min_samples_split= 8,\n",
        "                                                                                           n_estimators= 200),\n",
        "                                                                                           X = X_train, \n",
        "                                                                                           y = y_train, \n",
        "                                                                                           train_sizes = [250,500,1000,1500,2000,2500,2700], cv = 5,\n",
        "                                                                                            scoring='precision'\n",
        "                                                                                            )\n",
        "\n",
        "train_scores_mean = np.mean(train_scores, axis=1)\n",
        "test_scores_mean = np.mean(test_scores, axis=1)"
      ],
      "metadata": {
        "id": "dHdH1JupGJMa"
      },
      "execution_count": null,
      "outputs": []
    },
    {
      "cell_type": "code",
      "source": [
        "plt.plot(train_sizes, train_scores_mean, label = 'Training score')\n",
        "plt.plot(train_sizes, test_scores_mean, label = 'Test score')\n",
        "plt.ylabel('r2 score', fontsize = 14)\n",
        "plt.xlabel('Training set size', fontsize = 14)\n",
        "plt.title('Learning curves', fontsize = 18, y = 1.03)\n",
        "plt.legend();"
      ],
      "metadata": {
        "colab": {
          "base_uri": "https://localhost:8080/",
          "height": 310
        },
        "id": "JwbI6h68GJqi",
        "outputId": "a2150505-74d4-490f-a046-01fd98957282"
      },
      "execution_count": null,
      "outputs": [
        {
          "output_type": "display_data",
          "data": {
            "image/png": "[encoded data removed]",
            "text/plain": [
              "<Figure size 432x288 with 1 Axes>"
            ]
          },
          "metadata": {
            "needs_background": "light"
          }
        }
      ]
    },
    {
      "cell_type": "code",
      "source": [
        "from sklearn.preprocessing import MinMaxScaler\n",
        "\n",
        "scaler = MinMaxScaler()\n",
        "X_train_scaled = scaler.fit_transform(X_train)\n",
        "X_test_scaled = scaler.transform(X_test)"
      ],
      "metadata": {
        "id": "ggJ-Cet6IjtK"
      },
      "execution_count": null,
      "outputs": []
    },
    {
      "cell_type": "code",
      "source": [
        "parameters = {\n",
        "    \"loss\":[\"deviance\"],\n",
        "    \"learning_rate\": [0.1],\n",
        "    \"min_samples_split\": np.linspace(0.1, 0.5),\n",
        "    \"min_samples_leaf\": np.linspace(0.1, 0.5),\n",
        "    \"max_depth\":[0.1,1],\n",
        "    \"max_features\":[\"log2\",\"sqrt\"],\n",
        "    \"criterion\": [\"friedman_mse\",  \"mae\"],\n",
        "    \"subsample\":[0.1 ,0.5],\n",
        "    \"n_estimators\":[10]\n",
        "    }"
      ],
      "metadata": {
        "id": "Koe1Ph74JKry"
      },
      "execution_count": null,
      "outputs": []
    },
    {
      "cell_type": "code",
      "source": [
        "from sklearn.model_selection import GridSearchCV\n",
        "from sklearn.ensemble import GradientBoostingClassifier\n",
        "\n",
        "clf = GradientBoostingClassifier(n_estimators=100, learning_rate=0.1, max_depth=1,subsample=0.1, random_state=0).fit(X_train_scaled, y_train)\n",
        "\n",
        "\n",
        "\n",
        "\n",
        "\n",
        "clf_results= cross_validate(clf, X_train_scaled, y_train, scoring = [\"precision\",\"accuracy\",\"f1\",\"recall\",\"roc_auc\"], cv=5)\n",
        "\n",
        "\n",
        "\n",
        "clf_results"
      ],
      "metadata": {
        "colab": {
          "base_uri": "https://localhost:8080/"
        },
        "id": "NkDUwhcPKNwV",
        "outputId": "2a7b68b7-8caa-4ba1-f130-d72f445d770b"
      },
      "execution_count": null,
      "outputs": [
        {
          "output_type": "execute_result",
          "data": {
            "text/plain": [
              "{'fit_time': array([0.41036415, 0.42039299, 0.41613817, 0.43954396, 0.40951991]),\n",
              " 'score_time': array([0.01405859, 0.01321125, 0.01294827, 0.01613951, 0.01252198]),\n",
              " 'test_accuracy': array([0.55627426, 0.57309185, 0.5614489 , 0.57050453, 0.58085382]),\n",
              " 'test_f1': array([0.55969191, 0.59558824, 0.57677903, 0.58910891, 0.57255937]),\n",
              " 'test_precision': array([0.56185567, 0.57176471, 0.56341463, 0.57074341, 0.59128065]),\n",
              " 'test_recall': array([0.55754476, 0.62148338, 0.59079284, 0.60869565, 0.55498721]),\n",
              " 'test_roc_auc': array([0.57314444, 0.5969825 , 0.582444  , 0.58064635, 0.60677749])}"
            ]
          },
          "metadata": {},
          "execution_count": 38
        }
      ]
    },
    {
      "cell_type": "code",
      "source": [
        "clf = GradientBoostingClassifier(n_estimators=100, learning_rate=0.1, max_depth=1,subsample=0.1, random_state=0).fit(X_train_scaled, y_train)\n",
        "\n",
        "\n",
        "\n",
        "clf.fit(X_train_escaled,y_train)"
      ],
      "metadata": {
        "colab": {
          "base_uri": "https://localhost:8080/",
          "height": 235
        },
        "id": "inEUPL4-ittW",
        "outputId": "8c1319db-f632-463e-fdb1-6e61d92e35b0"
      },
      "execution_count": null,
      "outputs": [
        {
          "output_type": "error",
          "ename": "NameError",
          "evalue": "ignored",
          "traceback": [
            "\u001b[0;31m---------------------------------------------------------------------------\u001b[0m",
            "\u001b[0;31mNameError\u001b[0m                                 Traceback (most recent call last)",
            "\u001b[0;32m<ipython-input-2-7a3acce9d6bf>\u001b[0m in \u001b[0;36m<module>\u001b[0;34m()\u001b[0m\n\u001b[0;32m----> 1\u001b[0;31m \u001b[0mclf\u001b[0m \u001b[0;34m=\u001b[0m \u001b[0mGradientBoostingClassifier\u001b[0m\u001b[0;34m(\u001b[0m\u001b[0mn_estimators\u001b[0m\u001b[0;34m=\u001b[0m\u001b[0;36m100\u001b[0m\u001b[0;34m,\u001b[0m \u001b[0mlearning_rate\u001b[0m\u001b[0;34m=\u001b[0m\u001b[0;36m0.1\u001b[0m\u001b[0;34m,\u001b[0m \u001b[0mmax_depth\u001b[0m\u001b[0;34m=\u001b[0m\u001b[0;36m1\u001b[0m\u001b[0;34m,\u001b[0m\u001b[0msubsample\u001b[0m\u001b[0;34m=\u001b[0m\u001b[0;36m0.1\u001b[0m\u001b[0;34m,\u001b[0m \u001b[0mrandom_state\u001b[0m\u001b[0;34m=\u001b[0m\u001b[0;36m0\u001b[0m\u001b[0;34m)\u001b[0m\u001b[0;34m.\u001b[0m\u001b[0mfit\u001b[0m\u001b[0;34m(\u001b[0m\u001b[0mX_train_scaled\u001b[0m\u001b[0;34m,\u001b[0m \u001b[0my_train\u001b[0m\u001b[0;34m)\u001b[0m\u001b[0;34m\u001b[0m\u001b[0;34m\u001b[0m\u001b[0m\n\u001b[0m\u001b[1;32m      2\u001b[0m \u001b[0;34m\u001b[0m\u001b[0m\n\u001b[1;32m      3\u001b[0m \u001b[0;34m\u001b[0m\u001b[0m\n\u001b[1;32m      4\u001b[0m \u001b[0;34m\u001b[0m\u001b[0m\n\u001b[1;32m      5\u001b[0m \u001b[0mclf\u001b[0m\u001b[0;34m.\u001b[0m\u001b[0mfit\u001b[0m\u001b[0;34m(\u001b[0m\u001b[0mX_train_escaled\u001b[0m\u001b[0;34m,\u001b[0m\u001b[0my_train\u001b[0m\u001b[0;34m)\u001b[0m\u001b[0;34m\u001b[0m\u001b[0;34m\u001b[0m\u001b[0m\n",
            "\u001b[0;31mNameError\u001b[0m: name 'GradientBoostingClassifier' is not defined"
          ]
        }
      ]
    },
    {
      "cell_type": "code",
      "source": [
        "import pickle \n",
        "\n",
        "Pkl_Filename = \"Model_forest.pkl\"  \n",
        "\n",
        "with open(Pkl_Filename, 'wb') as file:  \n",
        "    pickle.dump(LR_Model, file)"
      ],
      "metadata": {
        "colab": {
          "base_uri": "https://localhost:8080/",
          "height": 200
        },
        "id": "FmJV08Wdib2S",
        "outputId": "be4b6832-bb07-4a22-ad9d-103d2b7f6ffc"
      },
      "execution_count": null,
      "outputs": [
        {
          "output_type": "error",
          "ename": "NameError",
          "evalue": "ignored",
          "traceback": [
            "\u001b[0;31m---------------------------------------------------------------------------\u001b[0m",
            "\u001b[0;31mNameError\u001b[0m                                 Traceback (most recent call last)",
            "\u001b[0;32m<ipython-input-1-9f9a45ca03db>\u001b[0m in \u001b[0;36m<module>\u001b[0;34m()\u001b[0m\n\u001b[1;32m      4\u001b[0m \u001b[0;34m\u001b[0m\u001b[0m\n\u001b[1;32m      5\u001b[0m \u001b[0;32mwith\u001b[0m \u001b[0mopen\u001b[0m\u001b[0;34m(\u001b[0m\u001b[0mPkl_Filename\u001b[0m\u001b[0;34m,\u001b[0m \u001b[0;34m'wb'\u001b[0m\u001b[0;34m)\u001b[0m \u001b[0;32mas\u001b[0m \u001b[0mfile\u001b[0m\u001b[0;34m:\u001b[0m\u001b[0;34m\u001b[0m\u001b[0;34m\u001b[0m\u001b[0m\n\u001b[0;32m----> 6\u001b[0;31m     \u001b[0mpickle\u001b[0m\u001b[0;34m.\u001b[0m\u001b[0mdump\u001b[0m\u001b[0;34m(\u001b[0m\u001b[0mLR_Model\u001b[0m\u001b[0;34m,\u001b[0m \u001b[0mfile\u001b[0m\u001b[0;34m)\u001b[0m\u001b[0;34m\u001b[0m\u001b[0;34m\u001b[0m\u001b[0m\n\u001b[0m",
            "\u001b[0;31mNameError\u001b[0m: name 'LR_Model' is not defined"
          ]
        }
      ]
    },
    {
      "cell_type": "code",
      "source": [
        "print(clf_results['test_precision'].mean())\n",
        "print(clf_results['test_recall'].mean())\n",
        "print(clf_results['test_accuracy'].mean())"
      ],
      "metadata": {
        "colab": {
          "base_uri": "https://localhost:8080/"
        },
        "id": "MoCRCz1iQf5Q",
        "outputId": "4e12fff2-1de5-45c4-f540-052530a94ad9"
      },
      "execution_count": null,
      "outputs": [
        {
          "output_type": "stream",
          "name": "stdout",
          "text": [
            "0.571811813871704\n",
            "0.5867007672634272\n",
            "0.5684346701164295\n"
          ]
        }
      ]
    },
    {
      "cell_type": "code",
      "source": [
        "import matplotlib.pyplot as plt\n",
        "from sklearn.model_selection import learning_curve\n",
        "import numpy as np\n",
        "\n",
        "train_sizes, train_scores, test_scores = learning_curve(estimator = GradientBoostingClassifier(n_estimators=100, \n",
        "                                                                                              learning_rate=0.1 , max_depth=1, random_state=0).fit(X_train, y_train),\n",
        "                                                                                              X = X_train_scaled, \n",
        "                                                                                              y = y_train, \n",
        "                                                                                              train_sizes = [100,200,300,450,650,1000,2784], cv = 5)\n",
        "\n",
        "train_scores_mean = np.mean(train_scores, axis=1)\n",
        "test_scores_mean = np.mean(test_scores, axis=1)"
      ],
      "metadata": {
        "id": "4RSRjaQEQIvT"
      },
      "execution_count": null,
      "outputs": []
    },
    {
      "cell_type": "code",
      "source": [
        "plt.plot(train_sizes, train_scores_mean, label = 'Training score')\n",
        "plt.plot(train_sizes, test_scores_mean, label = 'Test score')\n",
        "plt.xlabel('Training set size', fontsize = 14)\n",
        "plt.title('Learning curves', fontsize = 18, y = 1.03)\n",
        "plt.legend();"
      ],
      "metadata": {
        "colab": {
          "base_uri": "https://localhost:8080/",
          "height": 310
        },
        "id": "0cdWIlvRQbS0",
        "outputId": "8a994b7a-9cbc-4e7a-a2f3-85b1a72f7ecb"
      },
      "execution_count": null,
      "outputs": [
        {
          "output_type": "display_data",
          "data": {
            "image/png": "[encoded data removed]",
            "text/plain": [
              "<Figure size 432x288 with 1 Axes>"
            ]
          },
          "metadata": {
            "needs_background": "light"
          }
        }
      ]
    },
    {
      "cell_type": "code",
      "source": [
        ""
      ],
      "metadata": {
        "id": "wNYwFaNnQbqe"
      },
      "execution_count": null,
      "outputs": []
    }
  ]
}