{
 "cells": [
  {
   "cell_type": "code",
   "execution_count": 1098,
   "id": "5698d0db-0842-4c9b-86c2-09c9b2f87227",
   "metadata": {},
   "outputs": [],
   "source": [
    "import pandas as pd\n",
    "import numpy as np\n",
    "import seaborn as sns\n",
    "import matplotlib.pyplot as plt\n",
    "from sklearn import set_config; set_config(display='diagram')\n",
    "from sklearn.impute import KNNImputer\n",
    "from sklearn.impute import SimpleImputer\n",
    "from sklearn.compose import make_column_transformer\n",
    "from sklearn.pipeline import make_pipeline\n",
    "from sklearn.preprocessing import StandardScaler\n",
    "from sklearn.model_selection import cross_validate\n",
    "from sklearn.ensemble import RandomForestClassifier\n",
    "from xgboost import XGBClassifier\n",
    "from sklearn.metrics import roc_auc_score\n",
    "from imblearn.under_sampling import RandomUnderSampler\n",
    "from sklearn.metrics import confusion_matrix\n"
   ]
  },
  {
   "cell_type": "markdown",
   "id": "7d4fb624-476c-49b2-8612-1cdb8d96a780",
   "metadata": {},
   "source": [
    "#### Read Data"
   ]
  },
  {
   "cell_type": "code",
   "execution_count": 1099,
   "id": "1a172fdf-fcbf-4620-be62-0de48b0753f9",
   "metadata": {},
   "outputs": [],
   "source": [
    "df = pd.read_csv('../data/stocks_quarterly.csv')\n",
    "\n",
    "df2 = pd.read_csv('../data/new_data_test.csv')\n",
    "\n",
    "df = pd.concat([df,df2])"
   ]
  },
  {
   "cell_type": "code",
   "execution_count": 1100,
   "id": "3ca8dac3-21fe-420b-a8a8-c8a6f871b192",
   "metadata": {},
   "outputs": [
    {
     "data": {
      "text/html": [
       "<div>\n",
       "<style scoped>\n",
       "    .dataframe tbody tr th:only-of-type {\n",
       "        vertical-align: middle;\n",
       "    }\n",
       "\n",
       "    .dataframe tbody tr th {\n",
       "        vertical-align: top;\n",
       "    }\n",
       "\n",
       "    .dataframe thead th {\n",
       "        text-align: right;\n",
       "    }\n",
       "</style>\n",
       "<table border=\"1\" class=\"dataframe\">\n",
       "  <thead>\n",
       "    <tr style=\"text-align: right;\">\n",
       "      <th></th>\n",
       "      <th>fiscalDateEnding</th>\n",
       "      <th>grossProfit</th>\n",
       "      <th>totalRevenue</th>\n",
       "      <th>costOfRevenue</th>\n",
       "      <th>costofGoodsAndServicesSold</th>\n",
       "      <th>operatingIncome</th>\n",
       "      <th>sellingGeneralAndAdministrative</th>\n",
       "      <th>researchAndDevelopment</th>\n",
       "      <th>operatingExpenses</th>\n",
       "      <th>investmentIncomeNet</th>\n",
       "      <th>...</th>\n",
       "      <th>surprisePercentage</th>\n",
       "      <th>price</th>\n",
       "      <th>nasd_price</th>\n",
       "      <th>next_year_date</th>\n",
       "      <th>next_year_price</th>\n",
       "      <th>nasd_ny_price</th>\n",
       "      <th>symbol</th>\n",
       "      <th>Nasdaq_Performance</th>\n",
       "      <th>Stock_Performance</th>\n",
       "      <th>Label</th>\n",
       "    </tr>\n",
       "  </thead>\n",
       "  <tbody>\n",
       "    <tr>\n",
       "      <th>0</th>\n",
       "      <td>2020-12-31</td>\n",
       "      <td>4.027000e+09</td>\n",
       "      <td>4.027000e+09</td>\n",
       "      <td>4.485000e+09</td>\n",
       "      <td>1.240000e+09</td>\n",
       "      <td>-2.515000e+09</td>\n",
       "      <td>186000000.0</td>\n",
       "      <td>NaN</td>\n",
       "      <td>1.127000e+09</td>\n",
       "      <td>5000000.0</td>\n",
       "      <td>...</td>\n",
       "      <td>6.3380</td>\n",
       "      <td>18.100000</td>\n",
       "      <td>13337.160156</td>\n",
       "      <td>2022-01-28</td>\n",
       "      <td>15.640000</td>\n",
       "      <td>13770.570313</td>\n",
       "      <td>AAL</td>\n",
       "      <td>3.249643</td>\n",
       "      <td>-13.591160</td>\n",
       "      <td>0</td>\n",
       "    </tr>\n",
       "    <tr>\n",
       "      <th>1</th>\n",
       "      <td>2020-09-30</td>\n",
       "      <td>-2.310000e+09</td>\n",
       "      <td>2.833000e+09</td>\n",
       "      <td>5.143000e+09</td>\n",
       "      <td>1.156000e+09</td>\n",
       "      <td>-2.871000e+09</td>\n",
       "      <td>70000000.0</td>\n",
       "      <td>NaN</td>\n",
       "      <td>1.941000e+09</td>\n",
       "      <td>5000000.0</td>\n",
       "      <td>...</td>\n",
       "      <td>3.7309</td>\n",
       "      <td>13.150000</td>\n",
       "      <td>11506.009766</td>\n",
       "      <td>2021-10-22</td>\n",
       "      <td>19.150000</td>\n",
       "      <td>15090.200195</td>\n",
       "      <td>AAL</td>\n",
       "      <td>31.150594</td>\n",
       "      <td>45.627378</td>\n",
       "      <td>1</td>\n",
       "    </tr>\n",
       "    <tr>\n",
       "      <th>2</th>\n",
       "      <td>2020-06-30</td>\n",
       "      <td>-2.601000e+09</td>\n",
       "      <td>1.368000e+09</td>\n",
       "      <td>3.969000e+09</td>\n",
       "      <td>8.660000e+08</td>\n",
       "      <td>-2.486000e+09</td>\n",
       "      <td>43000000.0</td>\n",
       "      <td>NaN</td>\n",
       "      <td>1.133000e+09</td>\n",
       "      <td>10000000.0</td>\n",
       "      <td>...</td>\n",
       "      <td>0.9575</td>\n",
       "      <td>11.770000</td>\n",
       "      <td>10461.419922</td>\n",
       "      <td>2021-07-23</td>\n",
       "      <td>21.200001</td>\n",
       "      <td>14836.990234</td>\n",
       "      <td>AAL</td>\n",
       "      <td>41.825778</td>\n",
       "      <td>80.118946</td>\n",
       "      <td>1</td>\n",
       "    </tr>\n",
       "    <tr>\n",
       "      <th>3</th>\n",
       "      <td>2020-03-31</td>\n",
       "      <td>1.241000e+09</td>\n",
       "      <td>8.258000e+09</td>\n",
       "      <td>7.017000e+09</td>\n",
       "      <td>2.197000e+09</td>\n",
       "      <td>-2.549000e+09</td>\n",
       "      <td>305000000.0</td>\n",
       "      <td>NaN</td>\n",
       "      <td>2.857000e+09</td>\n",
       "      <td>21000000.0</td>\n",
       "      <td>...</td>\n",
       "      <td>-12.5218</td>\n",
       "      <td>12.010000</td>\n",
       "      <td>8889.549805</td>\n",
       "      <td>2021-04-30</td>\n",
       "      <td>21.719999</td>\n",
       "      <td>13962.679688</td>\n",
       "      <td>AAL</td>\n",
       "      <td>57.068468</td>\n",
       "      <td>80.849283</td>\n",
       "      <td>1</td>\n",
       "    </tr>\n",
       "    <tr>\n",
       "      <th>4</th>\n",
       "      <td>2019-12-31</td>\n",
       "      <td>1.118900e+10</td>\n",
       "      <td>1.131300e+10</td>\n",
       "      <td>1.240000e+08</td>\n",
       "      <td>2.633000e+09</td>\n",
       "      <td>7.290000e+08</td>\n",
       "      <td>503000000.0</td>\n",
       "      <td>NaN</td>\n",
       "      <td>1.240000e+08</td>\n",
       "      <td>24000000.0</td>\n",
       "      <td>...</td>\n",
       "      <td>-0.5104</td>\n",
       "      <td>28.799999</td>\n",
       "      <td>9402.480469</td>\n",
       "      <td>2021-01-22</td>\n",
       "      <td>15.820000</td>\n",
       "      <td>13543.059570</td>\n",
       "      <td>AAL</td>\n",
       "      <td>44.037093</td>\n",
       "      <td>-45.069444</td>\n",
       "      <td>0</td>\n",
       "    </tr>\n",
       "    <tr>\n",
       "      <th>...</th>\n",
       "      <td>...</td>\n",
       "      <td>...</td>\n",
       "      <td>...</td>\n",
       "      <td>...</td>\n",
       "      <td>...</td>\n",
       "      <td>...</td>\n",
       "      <td>...</td>\n",
       "      <td>...</td>\n",
       "      <td>...</td>\n",
       "      <td>...</td>\n",
       "      <td>...</td>\n",
       "      <td>...</td>\n",
       "      <td>...</td>\n",
       "      <td>...</td>\n",
       "      <td>...</td>\n",
       "      <td>...</td>\n",
       "      <td>...</td>\n",
       "      <td>...</td>\n",
       "      <td>...</td>\n",
       "      <td>...</td>\n",
       "      <td>...</td>\n",
       "    </tr>\n",
       "    <tr>\n",
       "      <th>935</th>\n",
       "      <td>2020-03-31</td>\n",
       "      <td>1.351000e+06</td>\n",
       "      <td>2.928000e+06</td>\n",
       "      <td>1.577000e+06</td>\n",
       "      <td>1.577000e+06</td>\n",
       "      <td>7.460000e+05</td>\n",
       "      <td>605000.0</td>\n",
       "      <td>NaN</td>\n",
       "      <td>6.050000e+05</td>\n",
       "      <td>NaN</td>\n",
       "      <td>...</td>\n",
       "      <td>NaN</td>\n",
       "      <td>2.220000</td>\n",
       "      <td>10058.769531</td>\n",
       "      <td>2021-06-30</td>\n",
       "      <td>3.960000</td>\n",
       "      <td>14503.950195</td>\n",
       "      <td>HIHO</td>\n",
       "      <td>44.192092</td>\n",
       "      <td>78.378378</td>\n",
       "      <td>1</td>\n",
       "    </tr>\n",
       "    <tr>\n",
       "      <th>936</th>\n",
       "      <td>2019-12-31</td>\n",
       "      <td>1.211000e+06</td>\n",
       "      <td>3.590000e+06</td>\n",
       "      <td>2.379000e+06</td>\n",
       "      <td>2.379000e+06</td>\n",
       "      <td>3.360000e+05</td>\n",
       "      <td>875000.0</td>\n",
       "      <td>NaN</td>\n",
       "      <td>8.750000e+05</td>\n",
       "      <td>NaN</td>\n",
       "      <td>...</td>\n",
       "      <td>NaN</td>\n",
       "      <td>2.030000</td>\n",
       "      <td>7700.100098</td>\n",
       "      <td>2021-03-31</td>\n",
       "      <td>3.730000</td>\n",
       "      <td>13246.870117</td>\n",
       "      <td>HIHO</td>\n",
       "      <td>72.035038</td>\n",
       "      <td>83.743846</td>\n",
       "      <td>1</td>\n",
       "    </tr>\n",
       "    <tr>\n",
       "      <th>937</th>\n",
       "      <td>2019-09-30</td>\n",
       "      <td>8.450000e+05</td>\n",
       "      <td>3.195000e+06</td>\n",
       "      <td>2.350000e+06</td>\n",
       "      <td>2.350000e+06</td>\n",
       "      <td>-1.690000e+05</td>\n",
       "      <td>1014000.0</td>\n",
       "      <td>NaN</td>\n",
       "      <td>1.014000e+06</td>\n",
       "      <td>NaN</td>\n",
       "      <td>...</td>\n",
       "      <td>NaN</td>\n",
       "      <td>1.620000</td>\n",
       "      <td>8972.599609</td>\n",
       "      <td>2020-12-30</td>\n",
       "      <td>4.000000</td>\n",
       "      <td>12870.000000</td>\n",
       "      <td>HIHO</td>\n",
       "      <td>43.436691</td>\n",
       "      <td>146.913580</td>\n",
       "      <td>1</td>\n",
       "    </tr>\n",
       "    <tr>\n",
       "      <th>938</th>\n",
       "      <td>2019-06-30</td>\n",
       "      <td>7.460000e+05</td>\n",
       "      <td>2.845000e+06</td>\n",
       "      <td>2.099000e+06</td>\n",
       "      <td>2.099000e+06</td>\n",
       "      <td>-1.660000e+05</td>\n",
       "      <td>912000.0</td>\n",
       "      <td>NaN</td>\n",
       "      <td>9.120000e+05</td>\n",
       "      <td>NaN</td>\n",
       "      <td>...</td>\n",
       "      <td>NaN</td>\n",
       "      <td>1.730000</td>\n",
       "      <td>7999.339844</td>\n",
       "      <td>2020-09-29</td>\n",
       "      <td>2.750000</td>\n",
       "      <td>11085.250000</td>\n",
       "      <td>HIHO</td>\n",
       "      <td>38.577060</td>\n",
       "      <td>58.959536</td>\n",
       "      <td>1</td>\n",
       "    </tr>\n",
       "    <tr>\n",
       "      <th>939</th>\n",
       "      <td>2018-09-30</td>\n",
       "      <td>8.640000e+05</td>\n",
       "      <td>3.495000e+06</td>\n",
       "      <td>2.631000e+06</td>\n",
       "      <td>2.631000e+06</td>\n",
       "      <td>-2.510000e+05</td>\n",
       "      <td>1115000.0</td>\n",
       "      <td>NaN</td>\n",
       "      <td>1.115000e+06</td>\n",
       "      <td>NaN</td>\n",
       "      <td>...</td>\n",
       "      <td>NaN</td>\n",
       "      <td>2.560000</td>\n",
       "      <td>6635.279785</td>\n",
       "      <td>2019-12-31</td>\n",
       "      <td>1.620000</td>\n",
       "      <td>8972.599609</td>\n",
       "      <td>HIHO</td>\n",
       "      <td>35.225641</td>\n",
       "      <td>-36.718748</td>\n",
       "      <td>0</td>\n",
       "    </tr>\n",
       "  </tbody>\n",
       "</table>\n",
       "<p>10856 rows × 102 columns</p>\n",
       "</div>"
      ],
      "text/plain": [
       "    fiscalDateEnding   grossProfit  totalRevenue  costOfRevenue  \\\n",
       "0         2020-12-31  4.027000e+09  4.027000e+09   4.485000e+09   \n",
       "1         2020-09-30 -2.310000e+09  2.833000e+09   5.143000e+09   \n",
       "2         2020-06-30 -2.601000e+09  1.368000e+09   3.969000e+09   \n",
       "3         2020-03-31  1.241000e+09  8.258000e+09   7.017000e+09   \n",
       "4         2019-12-31  1.118900e+10  1.131300e+10   1.240000e+08   \n",
       "..               ...           ...           ...            ...   \n",
       "935       2020-03-31  1.351000e+06  2.928000e+06   1.577000e+06   \n",
       "936       2019-12-31  1.211000e+06  3.590000e+06   2.379000e+06   \n",
       "937       2019-09-30  8.450000e+05  3.195000e+06   2.350000e+06   \n",
       "938       2019-06-30  7.460000e+05  2.845000e+06   2.099000e+06   \n",
       "939       2018-09-30  8.640000e+05  3.495000e+06   2.631000e+06   \n",
       "\n",
       "     costofGoodsAndServicesSold  operatingIncome  \\\n",
       "0                  1.240000e+09    -2.515000e+09   \n",
       "1                  1.156000e+09    -2.871000e+09   \n",
       "2                  8.660000e+08    -2.486000e+09   \n",
       "3                  2.197000e+09    -2.549000e+09   \n",
       "4                  2.633000e+09     7.290000e+08   \n",
       "..                          ...              ...   \n",
       "935                1.577000e+06     7.460000e+05   \n",
       "936                2.379000e+06     3.360000e+05   \n",
       "937                2.350000e+06    -1.690000e+05   \n",
       "938                2.099000e+06    -1.660000e+05   \n",
       "939                2.631000e+06    -2.510000e+05   \n",
       "\n",
       "     sellingGeneralAndAdministrative  researchAndDevelopment  \\\n",
       "0                        186000000.0                     NaN   \n",
       "1                         70000000.0                     NaN   \n",
       "2                         43000000.0                     NaN   \n",
       "3                        305000000.0                     NaN   \n",
       "4                        503000000.0                     NaN   \n",
       "..                               ...                     ...   \n",
       "935                         605000.0                     NaN   \n",
       "936                         875000.0                     NaN   \n",
       "937                        1014000.0                     NaN   \n",
       "938                         912000.0                     NaN   \n",
       "939                        1115000.0                     NaN   \n",
       "\n",
       "     operatingExpenses  investmentIncomeNet  ...  surprisePercentage  \\\n",
       "0         1.127000e+09            5000000.0  ...              6.3380   \n",
       "1         1.941000e+09            5000000.0  ...              3.7309   \n",
       "2         1.133000e+09           10000000.0  ...              0.9575   \n",
       "3         2.857000e+09           21000000.0  ...            -12.5218   \n",
       "4         1.240000e+08           24000000.0  ...             -0.5104   \n",
       "..                 ...                  ...  ...                 ...   \n",
       "935       6.050000e+05                  NaN  ...                 NaN   \n",
       "936       8.750000e+05                  NaN  ...                 NaN   \n",
       "937       1.014000e+06                  NaN  ...                 NaN   \n",
       "938       9.120000e+05                  NaN  ...                 NaN   \n",
       "939       1.115000e+06                  NaN  ...                 NaN   \n",
       "\n",
       "         price    nasd_price  next_year_date  next_year_price  nasd_ny_price  \\\n",
       "0    18.100000  13337.160156      2022-01-28        15.640000   13770.570313   \n",
       "1    13.150000  11506.009766      2021-10-22        19.150000   15090.200195   \n",
       "2    11.770000  10461.419922      2021-07-23        21.200001   14836.990234   \n",
       "3    12.010000   8889.549805      2021-04-30        21.719999   13962.679688   \n",
       "4    28.799999   9402.480469      2021-01-22        15.820000   13543.059570   \n",
       "..         ...           ...             ...              ...            ...   \n",
       "935   2.220000  10058.769531      2021-06-30         3.960000   14503.950195   \n",
       "936   2.030000   7700.100098      2021-03-31         3.730000   13246.870117   \n",
       "937   1.620000   8972.599609      2020-12-30         4.000000   12870.000000   \n",
       "938   1.730000   7999.339844      2020-09-29         2.750000   11085.250000   \n",
       "939   2.560000   6635.279785      2019-12-31         1.620000    8972.599609   \n",
       "\n",
       "     symbol  Nasdaq_Performance  Stock_Performance  Label  \n",
       "0       AAL            3.249643         -13.591160      0  \n",
       "1       AAL           31.150594          45.627378      1  \n",
       "2       AAL           41.825778          80.118946      1  \n",
       "3       AAL           57.068468          80.849283      1  \n",
       "4       AAL           44.037093         -45.069444      0  \n",
       "..      ...                 ...                ...    ...  \n",
       "935    HIHO           44.192092          78.378378      1  \n",
       "936    HIHO           72.035038          83.743846      1  \n",
       "937    HIHO           43.436691         146.913580      1  \n",
       "938    HIHO           38.577060          58.959536      1  \n",
       "939    HIHO           35.225641         -36.718748      0  \n",
       "\n",
       "[10856 rows x 102 columns]"
      ]
     },
     "execution_count": 1100,
     "metadata": {},
     "output_type": "execute_result"
    }
   ],
   "source": [
    "df"
   ]
  },
  {
   "cell_type": "markdown",
   "id": "d90cc9ef-1c36-425f-bf9c-70c35a170ccc",
   "metadata": {},
   "source": [
    "#### Drop columns with more tha 15% of nulls and not necesary"
   ]
  },
  {
   "cell_type": "code",
   "execution_count": 1101,
   "id": "f2858a72-3ed6-481e-bb60-884118d715f2",
   "metadata": {},
   "outputs": [],
   "source": [
    "cols_to_drop = df.isnull().mean().sort_values(ascending = False).head(45).index\n",
    "\n",
    "cols_to_drop = list(cols_to_drop) + ['fiscalDateEnding','reportedDate','price','nasd_price',\\\n",
    "                                     'next_year_date','next_year_price','nasd_ny_price','symbol',\\\n",
    "                                     'Nasdaq_Performance', 'Stock_Performance']\n",
    "\n",
    "df.drop(columns = cols_to_drop, inplace = True)"
   ]
  },
  {
   "cell_type": "markdown",
   "id": "4055a999-8b14-4463-995c-1f8c6758ddca",
   "metadata": {},
   "source": [
    "#### Drop duplicated rows"
   ]
  },
  {
   "cell_type": "code",
   "execution_count": 1102,
   "id": "61545ac5-ae15-40f0-be5e-3d99b1970ea7",
   "metadata": {},
   "outputs": [],
   "source": [
    "df = df.drop_duplicates()"
   ]
  },
  {
   "cell_type": "code",
   "execution_count": 1103,
   "id": "3b4fa5d6-96f6-4590-acd3-fc9fad67accd",
   "metadata": {},
   "outputs": [
    {
     "data": {
      "text/plain": [
       "(10674, 47)"
      ]
     },
     "execution_count": 1103,
     "metadata": {},
     "output_type": "execute_result"
    }
   ],
   "source": [
    "df.shape"
   ]
  },
  {
   "cell_type": "markdown",
   "id": "b2e408ef-5730-462c-9dda-bc575830c464",
   "metadata": {},
   "source": [
    "#### Split features and target"
   ]
  },
  {
   "cell_type": "code",
   "execution_count": 1071,
   "id": "cea6bde5-c0f7-4479-ad26-536659852780",
   "metadata": {},
   "outputs": [],
   "source": [
    "X = df.drop(columns = 'Label')\n",
    "y = df.Label"
   ]
  },
  {
   "cell_type": "markdown",
   "id": "bce47d6e-105c-41cf-a805-d6a98d66d448",
   "metadata": {},
   "source": [
    "#### Split train and test"
   ]
  },
  {
   "cell_type": "code",
   "execution_count": 1027,
   "id": "babd459f-1bc2-4122-8492-035c2be07109",
   "metadata": {},
   "outputs": [],
   "source": [
    "from sklearn.model_selection import train_test_split\n",
    "\n",
    "X_train, X_test, y_train, y_test = train_test_split(X,y,test_size= 0.2)"
   ]
  },
  {
   "cell_type": "markdown",
   "id": "5cb727e3-4de6-4d86-8273-d5091b25b533",
   "metadata": {
    "tags": []
   },
   "source": [
    "#### Undersampling after spliting the data"
   ]
  },
  {
   "cell_type": "code",
   "execution_count": 1028,
   "id": "67110c9e-48b6-442d-8195-19567f427bd6",
   "metadata": {},
   "outputs": [],
   "source": [
    "#undersample = RandomUnderSampler(sampling_strategy=0.75)\n",
    "#X_train, y_train = undersample.fit_resample(X_train, y_train)"
   ]
  },
  {
   "cell_type": "code",
   "execution_count": 1029,
   "id": "1da974ab-b392-49bc-b289-89514fe75a54",
   "metadata": {},
   "outputs": [
    {
     "data": {
      "text/plain": [
       "0    5701\n",
       "1    2838\n",
       "Name: Label, dtype: int64"
      ]
     },
     "execution_count": 1029,
     "metadata": {},
     "output_type": "execute_result"
    }
   ],
   "source": [
    "y_train.value_counts()"
   ]
  },
  {
   "cell_type": "markdown",
   "id": "db8f52a2-6eb0-45f5-8c9d-2a4a78383d83",
   "metadata": {},
   "source": [
    "#### Impute Nulls"
   ]
  },
  {
   "cell_type": "code",
   "execution_count": 1030,
   "id": "5d260286-3228-47f3-9504-622bd610d00e",
   "metadata": {},
   "outputs": [],
   "source": [
    "pipline = make_pipeline(KNNImputer())"
   ]
  },
  {
   "cell_type": "code",
   "execution_count": 1072,
   "id": "7796a5cb-1337-48f5-aa05-83c828a28271",
   "metadata": {},
   "outputs": [],
   "source": [
    "#X = pipline.fit_transform(X)\n",
    "X_train = pipline.fit_transform(X_train)\n",
    "X_test = pipline.transform(X_test)"
   ]
  },
  {
   "cell_type": "markdown",
   "id": "7f1b26bf-96ef-4183-8c50-277d39a79ba6",
   "metadata": {
    "jp-MarkdownHeadingCollapsed": true,
    "tags": []
   },
   "source": [
    "#### Random Forest Model"
   ]
  },
  {
   "cell_type": "code",
   "execution_count": 1032,
   "id": "3d355433-721a-4708-a5e0-aa2799529d6d",
   "metadata": {},
   "outputs": [],
   "source": [
    "from sklearn.ensemble import RandomForestClassifier\n",
    "#max_depth=110 max_features=3, min_samples_leaf=3, min_samples_split=8, n_estimators=200\n",
    "\n",
    "forest = RandomForestClassifier(max_depth=110, max_features=3, min_samples_leaf=3,\n",
    "                      min_samples_split=8, n_estimators=200)\n",
    "\n",
    "cv = cross_validate(forest,X_train,y_train,cv =5, scoring = ['accuracy','precision','recall'] )"
   ]
  },
  {
   "cell_type": "markdown",
   "id": "a6262c0b-51da-44d2-83e7-8f3c1cc43b9c",
   "metadata": {},
   "source": [
    "#### Scores"
   ]
  },
  {
   "cell_type": "code",
   "execution_count": 1033,
   "id": "e754b0c4-46bc-4a47-a48a-2704653fa924",
   "metadata": {},
   "outputs": [
    {
     "name": "stdout",
     "output_type": "stream",
     "text": [
      "0.6953966927748945\n",
      "0.650623614034657\n",
      "0.17969856174081525\n"
     ]
    }
   ],
   "source": [
    "print(cv['test_accuracy'].mean())\n",
    "print(cv['test_precision'].mean())\n",
    "print(cv['test_recall'].mean())"
   ]
  },
  {
   "cell_type": "markdown",
   "id": "0cb0a280-82d9-4c30-a15c-64494e1310eb",
   "metadata": {},
   "source": [
    "#### Confusion Matrix Test Set"
   ]
  },
  {
   "cell_type": "code",
   "execution_count": 1034,
   "id": "848d4a72-5b47-4a1e-bd40-86277c1cbcf5",
   "metadata": {},
   "outputs": [],
   "source": [
    "forest.fit(X_train,y_train)\n",
    "y_pred = forest.predict(X_test)"
   ]
  },
  {
   "cell_type": "code",
   "execution_count": 1035,
   "id": "388af77a-367b-4716-835c-fd6ac07b7919",
   "metadata": {},
   "outputs": [],
   "source": [
    "matrix = confusion_matrix(y_test,y_pred,labels = [1,0])"
   ]
  },
  {
   "cell_type": "code",
   "execution_count": 1036,
   "id": "ab190c8f-1819-47d6-8099-20e481df6cf1",
   "metadata": {},
   "outputs": [
    {
     "data": {
      "text/plain": [
       "array([[ 156,  567],\n",
       "       [  65, 1347]])"
      ]
     },
     "execution_count": 1036,
     "metadata": {},
     "output_type": "execute_result"
    }
   ],
   "source": [
    "matrix"
   ]
  },
  {
   "cell_type": "markdown",
   "id": "199b0faf-5bb8-4cc8-bc7d-b84c219ebba7",
   "metadata": {},
   "source": [
    "#### Precision and Recall Test Set"
   ]
  },
  {
   "cell_type": "code",
   "execution_count": 1037,
   "id": "1589763e-748f-4b46-82ae-0d36bc558ef8",
   "metadata": {},
   "outputs": [
    {
     "name": "stdout",
     "output_type": "stream",
     "text": [
      "precision: 0.71\n",
      "recall: 0.22\n"
     ]
    }
   ],
   "source": [
    "print(f'precision: {(matrix[0][0]/(matrix[0][0]+matrix[1][0])):.2f}')\n",
    "print(f'recall: {(matrix[0][0]/(matrix[0][0]+matrix[0][1])):.2f}')                                 "
   ]
  },
  {
   "cell_type": "markdown",
   "id": "ee14defa-8f29-4961-aff9-d2ef9b6b5b76",
   "metadata": {},
   "source": [
    "## Test on New Data"
   ]
  },
  {
   "cell_type": "markdown",
   "id": "db1e85b8-310b-4250-9f3f-430b46fbd3de",
   "metadata": {},
   "source": [
    "#### Read Data"
   ]
  },
  {
   "cell_type": "code",
   "execution_count": 1038,
   "id": "aa5bb45c-9aa1-4de4-8d84-2e6ea5b21503",
   "metadata": {},
   "outputs": [],
   "source": [
    "df = pd.read_csv('../data/new_data_test.csv')"
   ]
  },
  {
   "cell_type": "markdown",
   "id": "3cadab55-f523-4cd8-816e-d9238e6125b6",
   "metadata": {},
   "source": [
    "#### Drop columns with more tha 15% of nulls and not necesary"
   ]
  },
  {
   "cell_type": "code",
   "execution_count": 1039,
   "id": "0f2ed3cc-e46e-41fd-96ff-fec0d85cf5a5",
   "metadata": {},
   "outputs": [],
   "source": [
    "df.drop(columns = cols_to_drop, inplace = True)"
   ]
  },
  {
   "cell_type": "markdown",
   "id": "17a12ee7-6851-437f-bbbd-5738c227c4a5",
   "metadata": {},
   "source": [
    "#### Drop duplicates "
   ]
  },
  {
   "cell_type": "code",
   "execution_count": 945,
   "id": "dcfadbec-90f4-4105-832d-fba2f9ba5fea",
   "metadata": {},
   "outputs": [],
   "source": [
    "df = df.drop_duplicates()"
   ]
  },
  {
   "cell_type": "markdown",
   "id": "c109afb0-1890-4156-8b1a-42749773d801",
   "metadata": {},
   "source": [
    "#### Split features and target"
   ]
  },
  {
   "cell_type": "code",
   "execution_count": 946,
   "id": "0338e2b5-41dc-4f50-abb0-32ba398e7076",
   "metadata": {},
   "outputs": [],
   "source": [
    "X_new = df.drop(columns = 'Label')\n",
    "y_new = df.Label"
   ]
  },
  {
   "cell_type": "code",
   "execution_count": 947,
   "id": "6e625e7e-7750-43b7-9050-9316d8aea9fe",
   "metadata": {},
   "outputs": [
    {
     "data": {
      "text/plain": [
       "(940, 46)"
      ]
     },
     "execution_count": 947,
     "metadata": {},
     "output_type": "execute_result"
    }
   ],
   "source": [
    "X_new.shape"
   ]
  },
  {
   "cell_type": "markdown",
   "id": "ccfce7d0-ab8f-4b1b-b739-2f9fb1c835f4",
   "metadata": {},
   "source": [
    "#### Impute Nulls"
   ]
  },
  {
   "cell_type": "code",
   "execution_count": 948,
   "id": "c7e1da30-e72c-47d8-a83d-729c6d1cc13a",
   "metadata": {
    "tags": []
   },
   "outputs": [],
   "source": [
    "X_new = pipline.transform(X_new)"
   ]
  },
  {
   "cell_type": "markdown",
   "id": "97a3f45f-98ff-47cf-9bdc-623981609cce",
   "metadata": {},
   "source": [
    "#### Confusion Matrix Test Set"
   ]
  },
  {
   "cell_type": "code",
   "execution_count": 949,
   "id": "402f78c6-b220-473c-b92c-097f7a2f4cb0",
   "metadata": {},
   "outputs": [
    {
     "name": "stderr",
     "output_type": "stream",
     "text": [
      "/Users/patriciogarbino/.pyenv/versions/3.8.12/envs/lewagon/lib/python3.8/site-packages/sklearn/base.py:450: UserWarning: X does not have valid feature names, but RandomForestClassifier was fitted with feature names\n",
      "  warnings.warn(\n"
     ]
    },
    {
     "data": {
      "text/plain": [
       "array([[135, 191],\n",
       "       [115, 499]])"
      ]
     },
     "execution_count": 949,
     "metadata": {},
     "output_type": "execute_result"
    }
   ],
   "source": [
    "y_pred = forest.predict(X_new)\n",
    "matrix = confusion_matrix(y_new,y_pred,labels = [1,0])\n",
    "matrix"
   ]
  },
  {
   "cell_type": "markdown",
   "id": "d1175a7f-5db4-4ba5-b814-018593ad2a45",
   "metadata": {},
   "source": [
    "#### Precision and Recall Test Set"
   ]
  },
  {
   "cell_type": "code",
   "execution_count": 950,
   "id": "e5cb01fd-b473-467a-939a-c40d859841de",
   "metadata": {},
   "outputs": [
    {
     "name": "stdout",
     "output_type": "stream",
     "text": [
      "precision: 0.54\n",
      "recall: 0.41\n"
     ]
    }
   ],
   "source": [
    "print(f'precision: {(matrix[0][0]/(matrix[0][0]+matrix[1][0])):.2f}')\n",
    "print(f'recall: {(matrix[0][0]/(matrix[0][0]+matrix[0][1])):.2f}')  "
   ]
  },
  {
   "cell_type": "code",
   "execution_count": null,
   "id": "9c597395-ab72-4580-99a6-6bba146772dc",
   "metadata": {},
   "outputs": [],
   "source": []
  },
  {
   "cell_type": "code",
   "execution_count": null,
   "id": "a3c860c6-1928-42da-af06-2bf6a21c5494",
   "metadata": {},
   "outputs": [],
   "source": []
  },
  {
   "cell_type": "code",
   "execution_count": 1040,
   "id": "b9239055-07c4-4450-9e0b-99946176428d",
   "metadata": {},
   "outputs": [],
   "source": [
    "xgb = XGBClassifier(eval_metric='mlogloss',use_label_encoder=False)"
   ]
  },
  {
   "cell_type": "code",
   "execution_count": 1041,
   "id": "d5e02651-98e5-4720-90fe-73e8cf9d972f",
   "metadata": {},
   "outputs": [],
   "source": [
    "cv = cross_validate(xgb,X_train,y_train,cv =5, scoring = ['accuracy','precision','recall'] )"
   ]
  },
  {
   "cell_type": "code",
   "execution_count": 1042,
   "id": "9a66b608-2c10-49da-9128-f6c57a054411",
   "metadata": {},
   "outputs": [
    {
     "data": {
      "text/plain": [
       "{'fit_time': array([2.06419992, 1.98922992, 1.97083783, 1.97676802, 1.96889424]),\n",
       " 'score_time': array([0.00822616, 0.00784087, 0.00777292, 0.00799394, 0.00800896]),\n",
       " 'test_accuracy': array([0.68618267, 0.68618267, 0.69555035, 0.68852459, 0.67838313]),\n",
       " 'test_precision': array([0.54341737, 0.54571429, 0.57317073, 0.54972376, 0.52486188]),\n",
       " 'test_recall': array([0.34215168, 0.33626761, 0.33098592, 0.35035211, 0.335097  ])}"
      ]
     },
     "execution_count": 1042,
     "metadata": {},
     "output_type": "execute_result"
    }
   ],
   "source": [
    "cv"
   ]
  },
  {
   "cell_type": "code",
   "execution_count": 1043,
   "id": "dc4588f9-1fbd-4f62-956f-1ff2a536b6a4",
   "metadata": {},
   "outputs": [],
   "source": [
    "xgb.fit(X_train,y_train)\n",
    "y_pred = xgb.predict(X_test)"
   ]
  },
  {
   "cell_type": "code",
   "execution_count": 1044,
   "id": "3afccc64-0218-4d7e-b0a1-5c7680043460",
   "metadata": {},
   "outputs": [],
   "source": [
    "matrix = confusion_matrix(y_test,y_pred,labels = [1,0])"
   ]
  },
  {
   "cell_type": "code",
   "execution_count": 1045,
   "id": "e8740906-f2a9-4d09-a5df-d8cdd5926070",
   "metadata": {},
   "outputs": [
    {
     "name": "stdout",
     "output_type": "stream",
     "text": [
      "precision: 0.58\n",
      "recall: 0.32\n"
     ]
    }
   ],
   "source": [
    "print(f'precision: {(matrix[0][0]/(matrix[0][0]+matrix[1][0])):.2f}')\n",
    "print(f'recall: {(matrix[0][0]/(matrix[0][0]+matrix[0][1])):.2f}')       "
   ]
  },
  {
   "cell_type": "code",
   "execution_count": 992,
   "id": "c537fb1f-9541-4403-a96b-0bfbdc6cc4bd",
   "metadata": {},
   "outputs": [
    {
     "data": {
      "text/plain": [
       "array([[363, 322],\n",
       "       [255, 722]])"
      ]
     },
     "execution_count": 992,
     "metadata": {},
     "output_type": "execute_result"
    }
   ],
   "source": [
    "matrix"
   ]
  },
  {
   "cell_type": "code",
   "execution_count": 969,
   "id": "4972ea2f-0b95-4745-bd24-98045a961331",
   "metadata": {},
   "outputs": [],
   "source": [
    "importance = forest.feature_importances_"
   ]
  },
  {
   "cell_type": "code",
   "execution_count": 300,
   "id": "2fd0ff52-2e4d-4089-80a9-e764152b48b0",
   "metadata": {},
   "outputs": [],
   "source": [
    "forest_importances = pd.Series(importance, index=X.columns).sort_values(ascending = False)"
   ]
  },
  {
   "cell_type": "code",
   "execution_count": 301,
   "id": "0f308fe4-784b-4dfa-ad8d-63286c69d1a0",
   "metadata": {},
   "outputs": [],
   "source": [
    "forest_importances.to_csv('forest_importances.csv')"
   ]
  },
  {
   "cell_type": "code",
   "execution_count": 310,
   "id": "f95b3974-d387-4523-aa2f-6e8c0bc5b046",
   "metadata": {},
   "outputs": [],
   "source": [
    "columns = forest_importances.head(34).index"
   ]
  },
  {
   "cell_type": "code",
   "execution_count": 311,
   "id": "50c09bee-6968-4930-9ed9-d320fe239e93",
   "metadata": {},
   "outputs": [
    {
     "data": {
      "text/plain": [
       "Index(['othe_esti', 'depr_surp', 'otherNonCurrrentAssets', 'comm_othe',\n",
       "       'gros_prop', 'cost_esti', 'ebit_reta', 'surprisePercentage',\n",
       "       'repo_esti', 'surprise', 'surp_esti', 'oper_esti', 'cost_tota',\n",
       "       'tota_surp', 'othe_inte', 'otherCurrentAssets', 'gros_sell',\n",
       "       'reta_repo', 'comm_surp', 'depr_esti', 'comm_esti', 'reta_othe',\n",
       "       'gros_repo', 'gros_shor', 'othe_repo', 'inco_esti', 'cost_inte',\n",
       "       'comm_tota', 'othe_oper', 'reta_oper', 'gros_esti', 'repo_surp',\n",
       "       'cost_othe', 'othe_othe'],\n",
       "      dtype='object')"
      ]
     },
     "execution_count": 311,
     "metadata": {},
     "output_type": "execute_result"
    }
   ],
   "source": [
    "columns"
   ]
  },
  {
   "cell_type": "code",
   "execution_count": 322,
   "id": "ea8beaaf-748b-4901-a1c3-c968f5771acf",
   "metadata": {},
   "outputs": [
    {
     "data": {
      "text/plain": [
       "(9929, 485)"
      ]
     },
     "execution_count": 322,
     "metadata": {},
     "output_type": "execute_result"
    }
   ],
   "source": [
    "df.shape"
   ]
  },
  {
   "cell_type": "code",
   "execution_count": 351,
   "id": "b25cfe0c-4eeb-4dde-bed0-31f77b72670b",
   "metadata": {},
   "outputs": [],
   "source": [
    "df = df[['othe_esti', 'depr_surp', 'otherNonCurrrentAssets', 'comm_othe',\n",
    "       'gros_prop', 'cost_esti', 'ebit_reta', 'surprisePercentage',\n",
    "       'repo_esti', 'surprise', 'surp_esti', 'oper_esti', 'cost_tota',\n",
    "       'tota_surp', 'othe_inte', 'otherCurrentAssets', 'gros_sell',\n",
    "       'reta_repo', 'comm_surp', 'depr_esti', 'comm_esti', 'reta_othe',\n",
    "       'gros_repo', 'gros_shor', 'othe_repo', 'inco_esti', 'cost_inte',\n",
    "       'comm_tota', 'othe_oper', 'reta_oper', 'gros_esti', 'repo_surp',\n",
    "       'cost_othe', 'othe_othe','Label']]"
   ]
  },
  {
   "cell_type": "code",
   "execution_count": 290,
   "id": "f691875a-7aee-49ec-b8eb-578308e98e7a",
   "metadata": {},
   "outputs": [],
   "source": [
    "importance_xgb = xgb.feature_importances_"
   ]
  },
  {
   "cell_type": "code",
   "execution_count": 294,
   "id": "cb0b2f6c-d6c5-4c1d-939e-bb928d1c3c29",
   "metadata": {},
   "outputs": [],
   "source": [
    "xgb_importances = pd.Series(importance, index=df.columns[:-1]).sort_values(ascending = False)"
   ]
  },
  {
   "cell_type": "code",
   "execution_count": 295,
   "id": "47ea5268-2f7c-47b7-ad02-f2464d800982",
   "metadata": {},
   "outputs": [],
   "source": [
    "xgb_importances.to_csv('xgb_importances.csv')"
   ]
  },
  {
   "cell_type": "code",
   "execution_count": 296,
   "id": "ac0c457f-ff3a-41fe-84b8-27b1a19cfd55",
   "metadata": {},
   "outputs": [
    {
     "data": {
      "text/plain": [
       "Index(['grossProfit', 'totalRevenue', 'costOfRevenue',\n",
       "       'costofGoodsAndServicesSold', 'operatingIncome',\n",
       "       'sellingGeneralAndAdministrative', 'operatingExpenses',\n",
       "       'interestExpense', 'depreciationAndAmortization', 'incomeBeforeTax',\n",
       "       ...\n",
       "       'canarito_89', 'canarito_90', 'canarito_91', 'canarito_92',\n",
       "       'canarito_93', 'canarito_94', 'canarito_95', 'canarito_96',\n",
       "       'canarito_97', 'canarito_98'],\n",
       "      dtype='object', length=484)"
      ]
     },
     "execution_count": 296,
     "metadata": {},
     "output_type": "execute_result"
    }
   ],
   "source": [
    "df.columns[:-1]"
   ]
  },
  {
   "cell_type": "code",
   "execution_count": 659,
   "id": "38a46b3d-ea96-47e3-b699-e586479058d6",
   "metadata": {},
   "outputs": [
    {
     "data": {
      "text/plain": [
       "<matplotlib.legend.Legend at 0x137582f40>"
      ]
     },
     "execution_count": 659,
     "metadata": {},
     "output_type": "execute_result"
    },
    {
     "data": {
      "image/png": "[encoded data removed]",
      "text/plain": [
       "<Figure size 432x288 with 1 Axes>"
      ]
     },
     "metadata": {
      "needs_background": "light"
     },
     "output_type": "display_data"
    }
   ],
   "source": [
    "from sklearn.model_selection import learning_curve\n",
    "\n",
    "train_sizes = [100,500,2500,3500,4000]\n",
    "\n",
    "train_sizes, train_scores, test_scores = learning_curve(\n",
    "    estimator=forest, X=X_train, y=y_train, train_sizes=train_sizes, cv=5, scoring = 'precision')\n",
    "\n",
    "train_scores_mean = np.mean(train_scores, axis=1)\n",
    "test_scores_mean = np.mean(test_scores, axis=1)\n",
    "plt.plot(train_sizes, train_scores_mean, label = 'Training score')\n",
    "plt.plot(train_sizes, test_scores_mean, label = 'Test score')\n",
    "plt.ylabel('score', fontsize = 14)\n",
    "plt.xlabel('Training set size', fontsize = 14)\n",
    "plt.title('Learning curves', fontsize = 18, y = 1.03)\n",
    "plt.legend()"
   ]
  },
  {
   "cell_type": "code",
   "execution_count": 1046,
   "id": "8d1cf22f-3512-41cf-acad-234b83402a6e",
   "metadata": {},
   "outputs": [
    {
     "data": {
      "text/html": [
       "<div>\n",
       "<style scoped>\n",
       "    .dataframe tbody tr th:only-of-type {\n",
       "        vertical-align: middle;\n",
       "    }\n",
       "\n",
       "    .dataframe tbody tr th {\n",
       "        vertical-align: top;\n",
       "    }\n",
       "\n",
       "    .dataframe thead th {\n",
       "        text-align: right;\n",
       "    }\n",
       "</style>\n",
       "<table border=\"1\" class=\"dataframe\">\n",
       "  <thead>\n",
       "    <tr style=\"text-align: right;\">\n",
       "      <th></th>\n",
       "      <th>grossProfit</th>\n",
       "      <th>totalRevenue</th>\n",
       "      <th>costOfRevenue</th>\n",
       "      <th>costofGoodsAndServicesSold</th>\n",
       "      <th>operatingIncome</th>\n",
       "      <th>sellingGeneralAndAdministrative</th>\n",
       "      <th>operatingExpenses</th>\n",
       "      <th>interestExpense</th>\n",
       "      <th>depreciationAndAmortization</th>\n",
       "      <th>incomeBeforeTax</th>\n",
       "      <th>...</th>\n",
       "      <th>cashflowFromInvestment</th>\n",
       "      <th>cashflowFromFinancing</th>\n",
       "      <th>proceedsFromRepurchaseOfEquity</th>\n",
       "      <th>changeInCashAndCashEquivalents</th>\n",
       "      <th>netIncome_y</th>\n",
       "      <th>reportedEPS</th>\n",
       "      <th>estimatedEPS</th>\n",
       "      <th>surprise</th>\n",
       "      <th>surprisePercentage</th>\n",
       "      <th>Label</th>\n",
       "    </tr>\n",
       "  </thead>\n",
       "  <tbody>\n",
       "    <tr>\n",
       "      <th>0</th>\n",
       "      <td>-8.700000e+07</td>\n",
       "      <td>3.563000e+09</td>\n",
       "      <td>3.650000e+09</td>\n",
       "      <td>2.794000e+09</td>\n",
       "      <td>-1.303000e+09</td>\n",
       "      <td>605000000.0</td>\n",
       "      <td>1.216000e+09</td>\n",
       "      <td>78000000.0</td>\n",
       "      <td>194000000.0</td>\n",
       "      <td>123000000</td>\n",
       "      <td>...</td>\n",
       "      <td>-152000000.0</td>\n",
       "      <td>-7.520000e+08</td>\n",
       "      <td>0.0</td>\n",
       "      <td>4.500000e+08</td>\n",
       "      <td>63000000</td>\n",
       "      <td>0.4400</td>\n",
       "      <td>0.1601</td>\n",
       "      <td>0.2799</td>\n",
       "      <td>174.8282</td>\n",
       "      <td>1</td>\n",
       "    </tr>\n",
       "    <tr>\n",
       "      <th>1</th>\n",
       "      <td>-3.680000e+08</td>\n",
       "      <td>2.970000e+09</td>\n",
       "      <td>3.338000e+09</td>\n",
       "      <td>2.552000e+09</td>\n",
       "      <td>-1.139000e+09</td>\n",
       "      <td>581000000.0</td>\n",
       "      <td>7.710000e+08</td>\n",
       "      <td>73000000.0</td>\n",
       "      <td>196000000.0</td>\n",
       "      <td>-370000000</td>\n",
       "      <td>...</td>\n",
       "      <td>-257000000.0</td>\n",
       "      <td>9.390000e+08</td>\n",
       "      <td>0.0</td>\n",
       "      <td>1.210000e+08</td>\n",
       "      <td>-619000000</td>\n",
       "      <td>-0.6000</td>\n",
       "      <td>-0.2730</td>\n",
       "      <td>-0.3270</td>\n",
       "      <td>-119.7802</td>\n",
       "      <td>1</td>\n",
       "    </tr>\n",
       "    <tr>\n",
       "      <th>2</th>\n",
       "      <td>4.200000e+07</td>\n",
       "      <td>3.645000e+09</td>\n",
       "      <td>3.603000e+09</td>\n",
       "      <td>2.903000e+09</td>\n",
       "      <td>-1.066000e+09</td>\n",
       "      <td>618000000.0</td>\n",
       "      <td>1.108000e+09</td>\n",
       "      <td>79000000.0</td>\n",
       "      <td>5000000.0</td>\n",
       "      <td>19000000</td>\n",
       "      <td>...</td>\n",
       "      <td>-216000000.0</td>\n",
       "      <td>-1.096000e+09</td>\n",
       "      <td>0.0</td>\n",
       "      <td>2.100000e+09</td>\n",
       "      <td>-392000000</td>\n",
       "      <td>0.1900</td>\n",
       "      <td>0.5319</td>\n",
       "      <td>-0.3419</td>\n",
       "      <td>-64.2790</td>\n",
       "      <td>0</td>\n",
       "    </tr>\n",
       "    <tr>\n",
       "      <th>3</th>\n",
       "      <td>3.987000e+09</td>\n",
       "      <td>7.591000e+09</td>\n",
       "      <td>3.604000e+09</td>\n",
       "      <td>2.976000e+09</td>\n",
       "      <td>3.357000e+09</td>\n",
       "      <td>591000000.0</td>\n",
       "      <td>6.300000e+08</td>\n",
       "      <td>76000000.0</td>\n",
       "      <td>199000000.0</td>\n",
       "      <td>108000000</td>\n",
       "      <td>...</td>\n",
       "      <td>-248000000.0</td>\n",
       "      <td>3.990000e+08</td>\n",
       "      <td>-24000000.0</td>\n",
       "      <td>-2.380000e+08</td>\n",
       "      <td>75000000</td>\n",
       "      <td>0.5000</td>\n",
       "      <td>0.4574</td>\n",
       "      <td>0.0426</td>\n",
       "      <td>9.3135</td>\n",
       "      <td>0</td>\n",
       "    </tr>\n",
       "    <tr>\n",
       "      <th>4</th>\n",
       "      <td>2.880000e+08</td>\n",
       "      <td>3.999000e+09</td>\n",
       "      <td>3.711000e+09</td>\n",
       "      <td>3.081000e+09</td>\n",
       "      <td>-7.360000e+08</td>\n",
       "      <td>579000000.0</td>\n",
       "      <td>1.024000e+09</td>\n",
       "      <td>75000000.0</td>\n",
       "      <td>195000000.0</td>\n",
       "      <td>281000000</td>\n",
       "      <td>...</td>\n",
       "      <td>-204000000.0</td>\n",
       "      <td>-8.720000e+08</td>\n",
       "      <td>-193000000.0</td>\n",
       "      <td>2.360000e+08</td>\n",
       "      <td>-96000000</td>\n",
       "      <td>0.9900</td>\n",
       "      <td>0.7833</td>\n",
       "      <td>0.2067</td>\n",
       "      <td>26.3884</td>\n",
       "      <td>0</td>\n",
       "    </tr>\n",
       "    <tr>\n",
       "      <th>...</th>\n",
       "      <td>...</td>\n",
       "      <td>...</td>\n",
       "      <td>...</td>\n",
       "      <td>...</td>\n",
       "      <td>...</td>\n",
       "      <td>...</td>\n",
       "      <td>...</td>\n",
       "      <td>...</td>\n",
       "      <td>...</td>\n",
       "      <td>...</td>\n",
       "      <td>...</td>\n",
       "      <td>...</td>\n",
       "      <td>...</td>\n",
       "      <td>...</td>\n",
       "      <td>...</td>\n",
       "      <td>...</td>\n",
       "      <td>...</td>\n",
       "      <td>...</td>\n",
       "      <td>...</td>\n",
       "      <td>...</td>\n",
       "      <td>...</td>\n",
       "    </tr>\n",
       "    <tr>\n",
       "      <th>935</th>\n",
       "      <td>1.351000e+06</td>\n",
       "      <td>2.928000e+06</td>\n",
       "      <td>1.577000e+06</td>\n",
       "      <td>1.577000e+06</td>\n",
       "      <td>7.460000e+05</td>\n",
       "      <td>605000.0</td>\n",
       "      <td>6.050000e+05</td>\n",
       "      <td>NaN</td>\n",
       "      <td>NaN</td>\n",
       "      <td>723000</td>\n",
       "      <td>...</td>\n",
       "      <td>NaN</td>\n",
       "      <td>NaN</td>\n",
       "      <td>NaN</td>\n",
       "      <td>NaN</td>\n",
       "      <td>563000</td>\n",
       "      <td>-0.0600</td>\n",
       "      <td>0.0000</td>\n",
       "      <td>-0.0600</td>\n",
       "      <td>NaN</td>\n",
       "      <td>1</td>\n",
       "    </tr>\n",
       "    <tr>\n",
       "      <th>936</th>\n",
       "      <td>1.211000e+06</td>\n",
       "      <td>3.590000e+06</td>\n",
       "      <td>2.379000e+06</td>\n",
       "      <td>2.379000e+06</td>\n",
       "      <td>3.360000e+05</td>\n",
       "      <td>875000.0</td>\n",
       "      <td>8.750000e+05</td>\n",
       "      <td>73000.0</td>\n",
       "      <td>NaN</td>\n",
       "      <td>379000</td>\n",
       "      <td>...</td>\n",
       "      <td>NaN</td>\n",
       "      <td>NaN</td>\n",
       "      <td>NaN</td>\n",
       "      <td>NaN</td>\n",
       "      <td>318000</td>\n",
       "      <td>0.1424</td>\n",
       "      <td>NaN</td>\n",
       "      <td>NaN</td>\n",
       "      <td>NaN</td>\n",
       "      <td>1</td>\n",
       "    </tr>\n",
       "    <tr>\n",
       "      <th>937</th>\n",
       "      <td>8.450000e+05</td>\n",
       "      <td>3.195000e+06</td>\n",
       "      <td>2.350000e+06</td>\n",
       "      <td>2.350000e+06</td>\n",
       "      <td>-1.690000e+05</td>\n",
       "      <td>1014000.0</td>\n",
       "      <td>1.014000e+06</td>\n",
       "      <td>73000.0</td>\n",
       "      <td>NaN</td>\n",
       "      <td>-94000</td>\n",
       "      <td>...</td>\n",
       "      <td>NaN</td>\n",
       "      <td>NaN</td>\n",
       "      <td>NaN</td>\n",
       "      <td>NaN</td>\n",
       "      <td>-94000</td>\n",
       "      <td>0.0800</td>\n",
       "      <td>NaN</td>\n",
       "      <td>NaN</td>\n",
       "      <td>NaN</td>\n",
       "      <td>1</td>\n",
       "    </tr>\n",
       "    <tr>\n",
       "      <th>938</th>\n",
       "      <td>7.460000e+05</td>\n",
       "      <td>2.845000e+06</td>\n",
       "      <td>2.099000e+06</td>\n",
       "      <td>2.099000e+06</td>\n",
       "      <td>-1.660000e+05</td>\n",
       "      <td>912000.0</td>\n",
       "      <td>9.120000e+05</td>\n",
       "      <td>51000.0</td>\n",
       "      <td>NaN</td>\n",
       "      <td>-113000</td>\n",
       "      <td>...</td>\n",
       "      <td>NaN</td>\n",
       "      <td>NaN</td>\n",
       "      <td>NaN</td>\n",
       "      <td>NaN</td>\n",
       "      <td>-102000</td>\n",
       "      <td>-0.0241</td>\n",
       "      <td>NaN</td>\n",
       "      <td>NaN</td>\n",
       "      <td>NaN</td>\n",
       "      <td>1</td>\n",
       "    </tr>\n",
       "    <tr>\n",
       "      <th>939</th>\n",
       "      <td>8.640000e+05</td>\n",
       "      <td>3.495000e+06</td>\n",
       "      <td>2.631000e+06</td>\n",
       "      <td>2.631000e+06</td>\n",
       "      <td>-2.510000e+05</td>\n",
       "      <td>1115000.0</td>\n",
       "      <td>1.115000e+06</td>\n",
       "      <td>7000.0</td>\n",
       "      <td>NaN</td>\n",
       "      <td>-244000</td>\n",
       "      <td>...</td>\n",
       "      <td>NaN</td>\n",
       "      <td>NaN</td>\n",
       "      <td>NaN</td>\n",
       "      <td>NaN</td>\n",
       "      <td>-222000</td>\n",
       "      <td>-0.0802</td>\n",
       "      <td>NaN</td>\n",
       "      <td>NaN</td>\n",
       "      <td>NaN</td>\n",
       "      <td>0</td>\n",
       "    </tr>\n",
       "  </tbody>\n",
       "</table>\n",
       "<p>940 rows × 47 columns</p>\n",
       "</div>"
      ],
      "text/plain": [
       "      grossProfit  totalRevenue  costOfRevenue  costofGoodsAndServicesSold  \\\n",
       "0   -8.700000e+07  3.563000e+09   3.650000e+09                2.794000e+09   \n",
       "1   -3.680000e+08  2.970000e+09   3.338000e+09                2.552000e+09   \n",
       "2    4.200000e+07  3.645000e+09   3.603000e+09                2.903000e+09   \n",
       "3    3.987000e+09  7.591000e+09   3.604000e+09                2.976000e+09   \n",
       "4    2.880000e+08  3.999000e+09   3.711000e+09                3.081000e+09   \n",
       "..            ...           ...            ...                         ...   \n",
       "935  1.351000e+06  2.928000e+06   1.577000e+06                1.577000e+06   \n",
       "936  1.211000e+06  3.590000e+06   2.379000e+06                2.379000e+06   \n",
       "937  8.450000e+05  3.195000e+06   2.350000e+06                2.350000e+06   \n",
       "938  7.460000e+05  2.845000e+06   2.099000e+06                2.099000e+06   \n",
       "939  8.640000e+05  3.495000e+06   2.631000e+06                2.631000e+06   \n",
       "\n",
       "     operatingIncome  sellingGeneralAndAdministrative  operatingExpenses  \\\n",
       "0      -1.303000e+09                      605000000.0       1.216000e+09   \n",
       "1      -1.139000e+09                      581000000.0       7.710000e+08   \n",
       "2      -1.066000e+09                      618000000.0       1.108000e+09   \n",
       "3       3.357000e+09                      591000000.0       6.300000e+08   \n",
       "4      -7.360000e+08                      579000000.0       1.024000e+09   \n",
       "..               ...                              ...                ...   \n",
       "935     7.460000e+05                         605000.0       6.050000e+05   \n",
       "936     3.360000e+05                         875000.0       8.750000e+05   \n",
       "937    -1.690000e+05                        1014000.0       1.014000e+06   \n",
       "938    -1.660000e+05                         912000.0       9.120000e+05   \n",
       "939    -2.510000e+05                        1115000.0       1.115000e+06   \n",
       "\n",
       "     interestExpense  depreciationAndAmortization  incomeBeforeTax  ...  \\\n",
       "0         78000000.0                  194000000.0        123000000  ...   \n",
       "1         73000000.0                  196000000.0       -370000000  ...   \n",
       "2         79000000.0                    5000000.0         19000000  ...   \n",
       "3         76000000.0                  199000000.0        108000000  ...   \n",
       "4         75000000.0                  195000000.0        281000000  ...   \n",
       "..               ...                          ...              ...  ...   \n",
       "935              NaN                          NaN           723000  ...   \n",
       "936          73000.0                          NaN           379000  ...   \n",
       "937          73000.0                          NaN           -94000  ...   \n",
       "938          51000.0                          NaN          -113000  ...   \n",
       "939           7000.0                          NaN          -244000  ...   \n",
       "\n",
       "     cashflowFromInvestment  cashflowFromFinancing  \\\n",
       "0              -152000000.0          -7.520000e+08   \n",
       "1              -257000000.0           9.390000e+08   \n",
       "2              -216000000.0          -1.096000e+09   \n",
       "3              -248000000.0           3.990000e+08   \n",
       "4              -204000000.0          -8.720000e+08   \n",
       "..                      ...                    ...   \n",
       "935                     NaN                    NaN   \n",
       "936                     NaN                    NaN   \n",
       "937                     NaN                    NaN   \n",
       "938                     NaN                    NaN   \n",
       "939                     NaN                    NaN   \n",
       "\n",
       "     proceedsFromRepurchaseOfEquity  changeInCashAndCashEquivalents  \\\n",
       "0                               0.0                    4.500000e+08   \n",
       "1                               0.0                    1.210000e+08   \n",
       "2                               0.0                    2.100000e+09   \n",
       "3                       -24000000.0                   -2.380000e+08   \n",
       "4                      -193000000.0                    2.360000e+08   \n",
       "..                              ...                             ...   \n",
       "935                             NaN                             NaN   \n",
       "936                             NaN                             NaN   \n",
       "937                             NaN                             NaN   \n",
       "938                             NaN                             NaN   \n",
       "939                             NaN                             NaN   \n",
       "\n",
       "     netIncome_y  reportedEPS  estimatedEPS  surprise  surprisePercentage  \\\n",
       "0       63000000       0.4400        0.1601    0.2799            174.8282   \n",
       "1     -619000000      -0.6000       -0.2730   -0.3270           -119.7802   \n",
       "2     -392000000       0.1900        0.5319   -0.3419            -64.2790   \n",
       "3       75000000       0.5000        0.4574    0.0426              9.3135   \n",
       "4      -96000000       0.9900        0.7833    0.2067             26.3884   \n",
       "..           ...          ...           ...       ...                 ...   \n",
       "935       563000      -0.0600        0.0000   -0.0600                 NaN   \n",
       "936       318000       0.1424           NaN       NaN                 NaN   \n",
       "937       -94000       0.0800           NaN       NaN                 NaN   \n",
       "938      -102000      -0.0241           NaN       NaN                 NaN   \n",
       "939      -222000      -0.0802           NaN       NaN                 NaN   \n",
       "\n",
       "     Label  \n",
       "0        1  \n",
       "1        1  \n",
       "2        0  \n",
       "3        0  \n",
       "4        0  \n",
       "..     ...  \n",
       "935      1  \n",
       "936      1  \n",
       "937      1  \n",
       "938      1  \n",
       "939      0  \n",
       "\n",
       "[940 rows x 47 columns]"
      ]
     },
     "execution_count": 1046,
     "metadata": {},
     "output_type": "execute_result"
    }
   ],
   "source": [
    "df.surprisePercentage"
   ]
  },
  {
   "cell_type": "code",
   "execution_count": 1073,
   "id": "6735a7c1-268b-4dc5-b8e7-8b282823a9a0",
   "metadata": {},
   "outputs": [],
   "source": [
    "from sklearn.decomposition import PCA\n",
    "\n",
    "pca = PCA(n_components=10)\n",
    "data_projected = pca.fit_transform(X)"
   ]
  },
  {
   "cell_type": "code",
   "execution_count": 1084,
   "id": "b2f156e4-5025-4c75-afcf-cce7deeed094",
   "metadata": {},
   "outputs": [],
   "source": [
    "data = pd.concat([pd.DataFrame(data_projected),y],axis =1)"
   ]
  },
  {
   "cell_type": "code",
   "execution_count": 1082,
   "id": "7588f6ce-da11-4b19-82dc-6e8204ba818d",
   "metadata": {},
   "outputs": [],
   "source": [
    "y = y.reset_index()['Label']"
   ]
  },
  {
   "cell_type": "code",
   "execution_count": null,
   "id": "d7146962-213a-41f5-b75c-1be054988506",
   "metadata": {},
   "outputs": [],
   "source": []
  }
 ],
 "metadata": {
  "kernelspec": {
   "display_name": "Python 3 (ipykernel)",
   "language": "python",
   "name": "python3"
  },
  "language_info": {
   "codemirror_mode": {
    "name": "ipython",
    "version": 3
   },
   "file_extension": ".py",
   "mimetype": "text/x-python",
   "name": "python",
   "nbconvert_exporter": "python",
   "pygments_lexer": "ipython3",
   "version": "3.8.12"
  }
 },
 "nbformat": 4,
 "nbformat_minor": 5
}
